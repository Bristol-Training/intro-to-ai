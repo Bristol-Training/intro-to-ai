{
 "cells": [
  {
   "cell_type": "markdown",
   "id": "f0c4a454-d0f4-4d66-af7b-f59703d7f53a",
   "metadata": {},
   "source": [
    "# Basics of installing PyTorch (CUDA) in Anaconda\n",
    "- Open Anaconda Powershell Prompt\n",
    "- Create new virtual environment: `conda create -n py312 python=3.12`\n",
    "- Activate it: `conda activate py312`\n",
    "- Install PyTorch using CONDA: `conda install pytorch torchvision torchaudio pytorch-cuda=12.1 -c pytorch -c nvidia`\n",
    "- Verify PyTorch installation: `python -c \"import torch; print(torch.__version__)\"`\n",
    "- Verify CUDA availability: `python -c \"import torch; print(torch.cuda.is_available())\"`\n",
    "### Alternative PyTorch\n",
    "- Install PyTorch for CPU: `conda install pytorch torchvision torchaudio cpuonly -c pytorch`"
   ]
  },
  {
   "cell_type": "markdown",
   "id": "01f4fdeb-283d-45ab-a3c1-5fc898500cec",
   "metadata": {},
   "source": [
    "## Tips to redirect your Jupyter Notebook kernel to the new environment\n",
    "Activate your virtual environment first on Anaconda Powershell Prompt\n",
    "- #### Install ipykernel\n",
    "`conda install ipykernel`\n",
    "\n",
    "- #### Add the environment to Jupyter (e.g. if your virtual environment name is py312)\n",
    "`python -m ipykernel install --user --name=py312`"
   ]
  },
  {
   "cell_type": "code",
   "id": "ac2df348-a993-4323-89dd-40510fafa5a4",
   "metadata": {
    "ExecuteTime": {
     "end_time": "2025-03-18T18:34:01.714287Z",
     "start_time": "2025-03-18T18:34:01.712330Z"
    }
   },
   "source": [
    "# check if PyTorch exists otherwise follow the above steps to install PyTorch\n",
    "\n",
    "import torch\n",
    "torch.__version__"
   ],
   "outputs": [
    {
     "data": {
      "text/plain": [
       "'2.5.1'"
      ]
     },
     "execution_count": 625,
     "metadata": {},
     "output_type": "execute_result"
    }
   ],
   "execution_count": 625
  },
  {
   "cell_type": "markdown",
   "id": "c21e82fc-949c-403e-b4e2-42de07a5502c",
   "metadata": {},
   "source": [
    "# Introduction to PyTorch\n",
    "-------------------------------------------\n",
    "A tensor can be viewed as a multi-dimensional array. Similar to how an n-dimensional vector is shown as a one-dimensional array with _n_ elements relative to a specific basis, any tensor can be expressed as a multi-dimensional array when referenced to a basis. The individual values within this multi-dimensional structure are referred to as the tensor's components.\n",
    "\n",
    "[PyTorch](https://pytorch.org/foundation) is an open-source machine learning library developed by Facebook's AI Research lab. It's known for its flexibility, intuitive design, and dynamic computational graph which makes debugging easier.\n",
    "his  library offers multi-dimensional tensor data structures and implements various mathematical functions to manipulate these tensors. It also includes numerous tools for effective tensor serialisation, handling arbitrary data types, and provides several other practical utilities.\n",
    "\n",
    "PyTorch shares significant similarities with NumPy, though it uses the term ''tensor'' instead of ''N-dimensional array''. For example,"
   ]
  },
  {
   "cell_type": "code",
   "id": "1e5e8928-5f2d-42a3-be42-5717dd3f64b5",
   "metadata": {
    "ExecuteTime": {
     "end_time": "2025-03-18T18:34:01.741448Z",
     "start_time": "2025-03-18T18:34:01.738877Z"
    }
   },
   "source": [
    "import torch\n",
    "import numpy as np\n",
    "\n",
    "array_np = np.array([[1, 2, 3],\n",
    "                    [4, 5, 6]])\n",
    "array_pytorch = torch.tensor([[1, 2, 3],\n",
    "                             [4, 5, 6]])\n",
    "print(array_np)\n",
    "print(array_pytorch)"
   ],
   "outputs": [
    {
     "name": "stdout",
     "output_type": "stream",
     "text": [
      "[[1 2 3]\n",
      " [4 5 6]]\n",
      "tensor([[1, 2, 3],\n",
      "        [4, 5, 6]])\n"
     ]
    }
   ],
   "execution_count": 626
  },
  {
   "cell_type": "markdown",
   "id": "cf8fab10-39c0-400b-816d-78b04f245f70",
   "metadata": {},
   "source": [
    "Now let us create tensors in PyTorch."
   ]
  },
  {
   "cell_type": "code",
   "id": "4953c722-d171-43e1-9aa7-e5b3a7483e5d",
   "metadata": {
    "ExecuteTime": {
     "end_time": "2025-03-18T18:34:01.762343Z",
     "start_time": "2025-03-18T18:34:01.760131Z"
    }
   },
   "source": [
    "x = torch.tensor([1, 2, 3, 4]) # This creates a 1-dimensional tensor (vector) with 4 elements\n",
    "x"
   ],
   "outputs": [
    {
     "data": {
      "text/plain": [
       "tensor([1, 2, 3, 4])"
      ]
     },
     "execution_count": 627,
     "metadata": {},
     "output_type": "execute_result"
    }
   ],
   "execution_count": 627
  },
  {
   "cell_type": "code",
   "id": "6884768c-9088-4bdc-826f-d24b6bb86e1d",
   "metadata": {
    "ExecuteTime": {
     "end_time": "2025-03-18T18:34:01.783386Z",
     "start_time": "2025-03-18T18:34:01.780888Z"
    }
   },
   "source": [
    "# create specific tensors\n",
    "zeros = torch.zeros(3, 4)  # 3x4 tensor of zeros\n",
    "ones = torch.ones(2, 3)    # 2x3 tensor of ones\n",
    "rand = torch.rand(2, 2)    # 2x2 tensor of random numbers (0-1)\n",
    "\n",
    "rand"
   ],
   "outputs": [
    {
     "data": {
      "text/plain": [
       "tensor([[0.8303, 0.4344],\n",
       "        [0.4896, 0.2396]])"
      ]
     },
     "execution_count": 628,
     "metadata": {},
     "output_type": "execute_result"
    }
   ],
   "execution_count": 628
  },
  {
   "cell_type": "markdown",
   "id": "28249cf4-3a49-45b7-a4fb-ccfa2345a18a",
   "metadata": {},
   "source": [
    "Let us now explore some common [tensor operations](https://pytorch.org/docs/stable/tensors.html)."
   ]
  },
  {
   "cell_type": "code",
   "id": "8cdd9025-85ab-4d32-85e7-a03626217eff",
   "metadata": {
    "ExecuteTime": {
     "end_time": "2025-03-18T18:34:01.814575Z",
     "start_time": "2025-03-18T18:34:01.812889Z"
    }
   },
   "source": [
    "# define tensors\n",
    "a = torch.tensor([1, 2, 3])\n",
    "b = torch.tensor([4, 5, 6])"
   ],
   "outputs": [],
   "execution_count": 629
  },
  {
   "cell_type": "code",
   "id": "b7b7f5b0-99a9-42ac-a5a2-5d9815d41f7a",
   "metadata": {
    "ExecuteTime": {
     "end_time": "2025-03-18T18:34:01.836189Z",
     "start_time": "2025-03-18T18:34:01.834350Z"
    }
   },
   "source": [
    "a.shape # dimension of the tensor a"
   ],
   "outputs": [
    {
     "data": {
      "text/plain": [
       "torch.Size([3])"
      ]
     },
     "execution_count": 630,
     "metadata": {},
     "output_type": "execute_result"
    }
   ],
   "execution_count": 630
  },
  {
   "cell_type": "code",
   "id": "19e4049d-86df-4275-aa98-71ee3b26ca51",
   "metadata": {
    "ExecuteTime": {
     "end_time": "2025-03-18T18:34:01.866802Z",
     "start_time": "2025-03-18T18:34:01.864344Z"
    }
   },
   "source": [
    "c = torch.randn(4, 4)  # creates a 4x4 tensor with random values\n",
    "c.view(2, 8)  # reshape to 2x8 tensor / view() reshapes a tensor without changing its data"
   ],
   "outputs": [
    {
     "data": {
      "text/plain": [
       "tensor([[-0.1285,  1.0791, -0.4222,  0.0913,  0.4458, -0.3060,  0.9739,  1.6870],\n",
       "        [-0.2820,  0.3812, -0.3039, -0.4055,  0.0649,  0.5586, -1.7228,  0.4640]])"
      ]
     },
     "execution_count": 631,
     "metadata": {},
     "output_type": "execute_result"
    }
   ],
   "execution_count": 631
  },
  {
   "cell_type": "code",
   "id": "dfd4a3bd-d5f5-4aed-9a61-2020894004be",
   "metadata": {
    "ExecuteTime": {
     "end_time": "2025-03-18T18:34:01.898535Z",
     "start_time": "2025-03-18T18:34:01.896404Z"
    }
   },
   "source": [
    "c = torch.randn((1, 2, 3, 4, 5))\n",
    "c.squeeze().shape  # squeeze remove dimensions of size one"
   ],
   "outputs": [
    {
     "data": {
      "text/plain": [
       "torch.Size([2, 3, 4, 5])"
      ]
     },
     "execution_count": 632,
     "metadata": {},
     "output_type": "execute_result"
    }
   ],
   "execution_count": 632
  },
  {
   "cell_type": "code",
   "id": "522234ce-9dc4-4e15-8428-c86a442968cc",
   "metadata": {
    "ExecuteTime": {
     "end_time": "2025-03-18T18:34:01.937846Z",
     "start_time": "2025-03-18T18:34:01.935554Z"
    }
   },
   "source": [
    "c.unsqueeze(dim=5).shape  # unsqueeze adds a new dimension one at dimensional index `dim`."
   ],
   "outputs": [
    {
     "data": {
      "text/plain": [
       "torch.Size([1, 2, 3, 4, 5, 1])"
      ]
     },
     "execution_count": 633,
     "metadata": {},
     "output_type": "execute_result"
    }
   ],
   "execution_count": 633
  },
  {
   "cell_type": "code",
   "id": "bbd65a96-4f53-4039-895e-6631f48ceb7e",
   "metadata": {
    "ExecuteTime": {
     "end_time": "2025-03-18T18:34:01.976311Z",
     "start_time": "2025-03-18T18:34:01.974212Z"
    }
   },
   "source": [
    "a + b # element-wise addition of tensors"
   ],
   "outputs": [
    {
     "data": {
      "text/plain": [
       "tensor([5, 7, 9])"
      ]
     },
     "execution_count": 634,
     "metadata": {},
     "output_type": "execute_result"
    }
   ],
   "execution_count": 634
  },
  {
   "cell_type": "code",
   "id": "84495d09-0ff4-470e-a692-ed5fff68b851",
   "metadata": {
    "ExecuteTime": {
     "end_time": "2025-03-18T18:34:02.007131Z",
     "start_time": "2025-03-18T18:34:02.005010Z"
    }
   },
   "source": [
    "a * b # element-wise multiplication of tensors"
   ],
   "outputs": [
    {
     "data": {
      "text/plain": [
       "tensor([ 4, 10, 18])"
      ]
     },
     "execution_count": 635,
     "metadata": {},
     "output_type": "execute_result"
    }
   ],
   "execution_count": 635
  },
  {
   "cell_type": "code",
   "id": "3d76ed65-eb56-4b9d-a900-1bf7f8163476",
   "metadata": {
    "ExecuteTime": {
     "end_time": "2025-03-18T18:34:02.032163Z",
     "start_time": "2025-03-18T18:34:02.029738Z"
    }
   },
   "source": [
    "a @ b  # matrix multiplication (note: we have 1-dimensional matrix)"
   ],
   "outputs": [
    {
     "data": {
      "text/plain": [
       "tensor(32)"
      ]
     },
     "execution_count": 636,
     "metadata": {},
     "output_type": "execute_result"
    }
   ],
   "execution_count": 636
  },
  {
   "cell_type": "code",
   "id": "94c03cb3-e7f8-445c-a902-72c3cd55969a",
   "metadata": {
    "ExecuteTime": {
     "end_time": "2025-03-18T18:34:02.055606Z",
     "start_time": "2025-03-18T18:34:02.053481Z"
    }
   },
   "source": [
    "a / b  # element-wise division of tensors"
   ],
   "outputs": [
    {
     "data": {
      "text/plain": [
       "tensor([0.2500, 0.4000, 0.5000])"
      ]
     },
     "execution_count": 637,
     "metadata": {},
     "output_type": "execute_result"
    }
   ],
   "execution_count": 637
  },
  {
   "cell_type": "code",
   "id": "6cb2d6da-4d2e-42c9-a0ca-69a99e2b7e1a",
   "metadata": {
    "ExecuteTime": {
     "end_time": "2025-03-18T18:34:02.083515Z",
     "start_time": "2025-03-18T18:34:02.081394Z"
    }
   },
   "source": [
    "torch.dot(a, b)  # scalar product of two vectors / element-wise multiplication followed by addition of tensors"
   ],
   "outputs": [
    {
     "data": {
      "text/plain": [
       "tensor(32)"
      ]
     },
     "execution_count": 638,
     "metadata": {},
     "output_type": "execute_result"
    }
   ],
   "execution_count": 638
  },
  {
   "cell_type": "markdown",
   "id": "f6e9ca5f-2dc8-4a6c-b711-318db5c592b6",
   "metadata": {},
   "source": [
    "**Exercise: can you guess why scalar product and matrix multiplication are producing same answer ?**"
   ]
  },
  {
   "metadata": {},
   "cell_type": "markdown",
   "source": [
    "## Tensors in PyTorch\n",
    "\n",
    "### What Are Tensors?\n",
    "Tensors are the heart of PyTorch—they’re like super-powered arrays that can hold data in multiple dimensions. They’re similar to NumPy arrays but with extra magic: they can run on GPUs and track calculations for training neural networks.\n",
    "\n",
    "### Why Use Tensors?\n",
    "- **Data Storage**: Tensors hold inputs (like `[1.0, 2.0]`), weights, and outputs in our networks.\n",
    "- **Math Power**: They make it easy to do operations like multiplication or addition across lots of numbers at once.\n",
    "- **Flexibility**: They work on both CPU and GPU, which speeds things up for big models.\n",
    "\n",
    "### How Do They Work?\n",
    "Let’s create some tensors, play with them, and see what they can do!"
   ],
   "id": "6aad6151415607f1"
  },
  {
   "metadata": {
    "ExecuteTime": {
     "end_time": "2025-03-18T18:34:02.108375Z",
     "start_time": "2025-03-18T18:34:02.105261Z"
    }
   },
   "cell_type": "code",
   "source": [
    "import torch\n",
    "\n",
    "# Create a simple tensor (a 1D list)\n",
    "tensor_1d = torch.tensor([1.0, 2.0, 3.0])\n",
    "print(\"1D Tensor:\", tensor_1d)\n",
    "\n",
    "# Create a 2D tensor (like a table)\n",
    "tensor_2d = torch.tensor([[1.0, 2.0], [3.0, 4.0]])\n",
    "print(\"2D Tensor:\\n\", tensor_2d)\n",
    "\n",
    "# Check its shape (size)\n",
    "print(\"Shape of 2D Tensor:\", tensor_2d.shape)  # Shows [2, 2] (2 rows, 2 columns)\n",
    "\n",
    "# Do some math\n",
    "tensor_sum = tensor_2d + 1.0  # Add 1 to every number\n",
    "print(\"Tensor after adding 1:\\n\", tensor_sum)\n",
    "\n",
    "# Reshape it\n",
    "tensor_reshaped = tensor_2d.view(4, 1)  # Turn 2x2 into 4x1\n",
    "print(\"Reshaped Tensor:\\n\", tensor_reshaped)\n",
    "\n",
    "# Move it to GPU (if available)\n",
    "device = torch.device(\"cuda\" if torch.cuda.is_available() else \"cpu\")\n",
    "tensor_on_device = tensor_2d.to(device)\n",
    "print(\"Tensor is now on:\", tensor_on_device.device)"
   ],
   "id": "7791dbc2f7001881",
   "outputs": [
    {
     "name": "stdout",
     "output_type": "stream",
     "text": [
      "1D Tensor: tensor([1., 2., 3.])\n",
      "2D Tensor:\n",
      " tensor([[1., 2.],\n",
      "        [3., 4.]])\n",
      "Shape of 2D Tensor: torch.Size([2, 2])\n",
      "Tensor after adding 1:\n",
      " tensor([[2., 3.],\n",
      "        [4., 5.]])\n",
      "Reshaped Tensor:\n",
      " tensor([[1.],\n",
      "        [2.],\n",
      "        [3.],\n",
      "        [4.]])\n",
      "Tensor is now on: cpu\n"
     ]
    }
   ],
   "execution_count": 639
  },
  {
   "metadata": {},
   "cell_type": "markdown",
   "source": [
    "## Classes in Python\n",
    "\n",
    "### What Are Classes?\n",
    "Classes in Python are like blueprints for creating objects. They let us bundle data (attributes) and functions (methods) together in a neat package. In the context of neural networks, we use classes to define models—like a Perceptron or an MLP—making our code organized and reusable.\n",
    "\n",
    "### Why Use Classes?\n",
    "- **Structure**: They help us keep related things (e.g., weights and forward logic) together.\n",
    "- **Reusability**: Once defined, we can create multiple instances (objects) of a class.\n",
    "- **PyTorch Connection**: PyTorch uses classes (via `nn.Module`) to build neural networks.\n",
    "\n",
    "### How Do They Work?\n",
    "A class has:\n",
    "- An `__init__` method to set up initial attributes (like weights).\n",
    "- Other methods (like `forward`) to define what the class does.\n",
    "\n",
    "Let’s see two examples: a simple Perceptron and a PyTorch-style network."
   ],
   "id": "8c3548cc591a48d6"
  },
  {
   "metadata": {},
   "cell_type": "markdown",
   "source": [
    "## A Simple Perceptron\n",
    "\n",
    "### What’s Happening Here?\n",
    "- **The `Perceptron` Class**: This is like a tiny decision-maker. It sets up random \"weights\" (how much each input matters) and a \"bias\" (a tweak to the decision) when created.\n",
    "- **The `forward` Method**: This is where the magic happens—it takes an input (like `[1.0, 2.0]`), mixes it with weights and bias, and decides \"yes\" (1) or \"no\" (-1) using a simple rule.\n",
    "- **Testing It**: We create a Perceptron, give it an input, and see what it says—super simple!"
   ],
   "id": "a702f9560b84cdb7"
  },
  {
   "metadata": {
    "ExecuteTime": {
     "end_time": "2025-03-18T18:34:02.131339Z",
     "start_time": "2025-03-18T18:34:02.128639Z"
    }
   },
   "cell_type": "code",
   "source": [
    "import torch\n",
    "import torch.nn as nn\n",
    "class Perceptron:\n",
    "    def __init__(self, input_size):\n",
    "        # Initialize random weights and bias\n",
    "        self.weights = torch.randn(input_size)\n",
    "        self.bias = torch.randn(1)\n",
    "    \n",
    "    def forward(self, x):\n",
    "        # Compute the output: sign of (weights * input + bias)\n",
    "        return torch.sign(torch.dot(x, self.weights) + self.bias)\n",
    "\n",
    "# Test the Perceptron\n",
    "perceptron = Perceptron(input_size=2)  # Create an instance with 2 inputs\n",
    "sample_input = torch.tensor([1.0, 2.0])\n",
    "output = perceptron.forward(sample_input)\n",
    "print(\"Perceptron output:\", output)"
   ],
   "id": "a7f29b3023cc996b",
   "outputs": [
    {
     "name": "stdout",
     "output_type": "stream",
     "text": [
      "Perceptron output: tensor([-1.])\n"
     ]
    }
   ],
   "execution_count": 640
  },
  {
   "metadata": {},
   "cell_type": "markdown",
   "source": [
    "## A PyTorch Neural Network\n",
    "\n",
    "### What’s Happening Here?\n",
    "- **The `SimpleNet` Class**: This is a small neural network built with PyTorch. It sets up two \"layers\" of connections: one from inputs to a hidden layer (like a middle step), and another from the hidden layer to the output.\n",
    "- **The `forward` Method**: This tells the network how to process an input—it passes it through the first layer, adds a twist with ReLU (making negative values zero), then goes through the second layer to get the final result.\n",
    "- **Testing It**: We create a `SimpleNet`, give it an input (like `[1.0, 2.0]`), and see what it predicts—nice and straightforward!\n"
   ],
   "id": "cabb2faec5998e38"
  },
  {
   "metadata": {
    "ExecuteTime": {
     "end_time": "2025-03-18T18:34:02.160746Z",
     "start_time": "2025-03-18T18:34:02.157869Z"
    }
   },
   "cell_type": "code",
   "source": [
    "class SimpleNet(nn.Module):\n",
    "    def __init__(self, input_size, hidden_size, output_size):\n",
    "        super(SimpleNet, self).__init__()  # Initialize the parent nn.Module class\n",
    "        self.layer1 = nn.Linear(input_size, hidden_size)  # Input to hidden layer\n",
    "        self.layer2 = nn.Linear(hidden_size, output_size)  # Hidden to output layer\n",
    "    \n",
    "    def forward(self, x):\n",
    "        # Define the forward pass with ReLU activation\n",
    "        x = torch.relu(self.layer1(x))\n",
    "        x = self.layer2(x)\n",
    "        return x\n",
    "\n",
    "# Test the SimpleNet\n",
    "net = SimpleNet(input_size=2, hidden_size=4, output_size=1)  # Create an instance\n",
    "output = net(sample_input)\n",
    "print(\"SimpleNet output:\", output)"
   ],
   "id": "9a0f4d3f126e0a9e",
   "outputs": [
    {
     "name": "stdout",
     "output_type": "stream",
     "text": [
      "SimpleNet output: tensor([-0.0139], grad_fn=<ViewBackward0>)\n"
     ]
    }
   ],
   "execution_count": 641
  },
  {
   "cell_type": "markdown",
   "id": "28d54631-e8f3-48ac-b7ae-4808af3496c1",
   "metadata": {},
   "source": [
    "------------------------------------------------------\n",
    "## Data Pipeline\n",
    "\n",
    "This section builds a data pipeline which includes data loading, preprocessing, and batching with DataLoader. We will use the [iris dataset](https://scikit-learn.org/stable/modules/generated/sklearn.datasets.load_iris.html) from scikit-learn. Before proceeding make sure to install scikit-learn and matplotlib from your Anaconda Powershell Prompt: **conda install scikit-learn -y**  (The `-y` flag automatically says \"yes\" to the installation, saving you a click!) "
   ]
  },
  {
   "cell_type": "code",
   "id": "8c3748be-f5a7-498d-88bd-91d0c7b53229",
   "metadata": {
    "ExecuteTime": {
     "end_time": "2025-03-18T18:34:02.178306Z",
     "start_time": "2025-03-18T18:34:02.176594Z"
    }
   },
   "source": [
    "import matplotlib.pyplot as plt\n",
    "import torch.nn as nn\n",
    "from torch.utils.data import DataLoader, TensorDataset\n",
    "from sklearn.datasets import load_iris\n",
    "from sklearn.model_selection import train_test_split\n",
    "from sklearn.preprocessing import StandardScaler"
   ],
   "outputs": [],
   "execution_count": 642
  },
  {
   "cell_type": "markdown",
   "id": "fe008316-1287-4d2c-b7ab-b93c16f3267c",
   "metadata": {},
   "source": [
    "Note: if you find any error message for example saying `No module named 'matplotlib'`, open your Anaconda Powershell Prompt and install the missing library: **conda install matplotlib -y**\n",
    "\n",
    "Once installed restart kernel."
   ]
  },
  {
   "cell_type": "markdown",
   "id": "70aad69b-cade-4cb1-b1e1-3612e4ac1a2b",
   "metadata": {},
   "source": [
    "### Step 1: Load and explore the Iris dataset\n",
    "------------------------------------------\n",
    "The [Iris dataset](https://scikit-learn.org/stable/modules/generated/sklearn.datasets.load_iris.html) is a classic dataset in machine learning practice containing measurements of sepals and petals from three species of iris flowers."
   ]
  },
  {
   "cell_type": "code",
   "id": "f7fb4c2e-05bf-4d49-8884-bdac83596229",
   "metadata": {
    "ExecuteTime": {
     "end_time": "2025-03-18T18:34:02.196905Z",
     "start_time": "2025-03-18T18:34:02.194227Z"
    }
   },
   "source": [
    "from sklearn.datasets import load_iris\n",
    "\n",
    "# load the dataset\n",
    "iris = load_iris()\n",
    "\n",
    "# extract features and target classes\n",
    "X = iris.data\n",
    "y = iris.target\n",
    "feature_names = iris.feature_names\n",
    "target_names = iris.target_names\n",
    "\n",
    "# print to check the overall structure of our dataset\n",
    "# and also to find how many classes we have\n",
    "\n",
    "print(f\"Dataset dimensions: {X.shape}\")\n",
    "print(f\"Target classes: {target_names}\")\n",
    "print(f\"Feature names: {feature_names}\")"
   ],
   "outputs": [
    {
     "name": "stdout",
     "output_type": "stream",
     "text": [
      "Dataset dimensions: (150, 4)\n",
      "Target classes: ['setosa' 'versicolor' 'virginica']\n",
      "Feature names: ['sepal length (cm)', 'sepal width (cm)', 'petal length (cm)', 'petal width (cm)']\n"
     ]
    }
   ],
   "execution_count": 643
  },
  {
   "cell_type": "markdown",
   "id": "e694bdb8-8351-437e-b692-3f08a9deeba4",
   "metadata": {},
   "source": [
    "We now know that we have 150 samples and 4 features in our dataset"
   ]
  },
  {
   "cell_type": "markdown",
   "id": "886fb355-cf70-431e-a56f-a590c4482009",
   "metadata": {},
   "source": [
    "### Step 2: Split data into training and testing sets\n",
    "------------------------------------------\n",
    "\n",
    "We now divide our data into training and testing datasets in 80:20 ratio. This means, we will be using 80% of our data for training and 20% for evaluating the model's performance.data"
   ]
  },
  {
   "cell_type": "code",
   "id": "bf5ac41f-706c-4d66-a672-f50f7ba3eea0",
   "metadata": {
    "ExecuteTime": {
     "end_time": "2025-03-18T18:34:02.213979Z",
     "start_time": "2025-03-18T18:34:02.212016Z"
    }
   },
   "source": [
    "# split data into training and testing sets with a seed for reproducibility\n",
    "# X_train here contains training set for feature data\n",
    "# y_train here contains target labels for training set, or what we want to predict, or the ground truth\n",
    "\n",
    "X_train, X_test, y_train, y_test = train_test_split(X, y, test_size=0.2, random_state=42)"
   ],
   "outputs": [],
   "execution_count": 644
  },
  {
   "cell_type": "markdown",
   "id": "dca2ed5f-fe74-4615-acec-117101915989",
   "metadata": {},
   "source": [
    "### Step 3: Standarise or scale the feature data\n",
    "------------------------------------------"
   ]
  },
  {
   "cell_type": "code",
   "id": "cfe00407-2b92-4514-af17-0627edfb3864",
   "metadata": {
    "ExecuteTime": {
     "end_time": "2025-03-18T18:34:02.230972Z",
     "start_time": "2025-03-18T18:34:02.228771Z"
    }
   },
   "source": [
    "# standardise the feature data\n",
    "scaler = StandardScaler()\n",
    "\n",
    "# learn the parameter from training data and fit a transformer to it\n",
    "# fit() - computes mean and std deviation to scale\n",
    "# transform() - used to scale using mean and std deviation calculated using fit()\n",
    "# fit_transform() - combination of both fit() and transform()\n",
    "X_train = scaler.fit_transform(X_train)\n",
    "\n",
    "# no fit() as we want to avoid data leakage\n",
    "X_test = scaler.transform(X_test)"
   ],
   "outputs": [],
   "execution_count": 645
  },
  {
   "cell_type": "markdown",
   "id": "73db9496-3489-475b-a919-f31913c766f4",
   "metadata": {},
   "source": [
    "Now let us convert feature matrices to FloatTensor (tensor type for numerical data) and LongTensor (tensor type for integer labels)."
   ]
  },
  {
   "cell_type": "code",
   "id": "5b0d8d01-2769-4b69-9c8d-d18966fd5b31",
   "metadata": {
    "ExecuteTime": {
     "end_time": "2025-03-18T18:34:02.260885Z",
     "start_time": "2025-03-18T18:34:02.259250Z"
    }
   },
   "source": [
    "X_train_tensor = torch.FloatTensor(X_train)\n",
    "y_train_tensor = torch.LongTensor(y_train)\n",
    "\n",
    "\n",
    "X_test_tensor = torch.FloatTensor(X_test)\n",
    "y_test_tensor = torch.LongTensor(y_test)"
   ],
   "outputs": [],
   "execution_count": 646
  },
  {
   "cell_type": "markdown",
   "id": "a9f52868-f0dc-49af-8afc-3cf0abc692ee",
   "metadata": {},
   "source": [
    "### Step 4: Create tensor dataset and [data loader](https://www.eletreby.me/blog/getting-started-with-pytorch-dataset-and-dataloader) for batch training\n",
    "-------------------------------------------------------\n",
    "\n",
    "The `DataLoader` class wraps the `Dataset` class and handles batching, shuffling, and utilise Python's multiprocessing to speed up data retrieval."
   ]
  },
  {
   "cell_type": "code",
   "id": "e0052f09-9ce8-42a9-9075-f829c87a0e5f",
   "metadata": {
    "ExecuteTime": {
     "end_time": "2025-03-18T18:34:02.271556Z",
     "start_time": "2025-03-18T18:34:02.269202Z"
    }
   },
   "source": [
    "# Combine features and labels into a single dataset\n",
    "batch_size = 30\n",
    "train_dataset = TensorDataset(X_train_tensor, y_train_tensor)\n",
    "train_loader = DataLoader(dataset=train_dataset, batch_size=batch_size, shuffle=True)\n",
    "\n",
    "test_dataset = TensorDataset(X_test_tensor, y_test_tensor)\n",
    "test_loader = DataLoader(test_dataset, batch_size=batch_size, shuffle=False)\n",
    "# Print batch information\n",
    "print(f\"Number of training batches: {len(train_loader)}\")\n",
    "print(f\"Number of test batches: {len(test_loader)}\")"
   ],
   "outputs": [
    {
     "name": "stdout",
     "output_type": "stream",
     "text": [
      "Number of training batches: 4\n",
      "Number of test batches: 1\n"
     ]
    }
   ],
   "execution_count": 647
  },
  {
   "cell_type": "markdown",
   "id": "a99b2488-1787-479b-b276-a8e086fba259",
   "metadata": {},
   "source": [
    "Finally, our dataset is ready for model definition, training, and evaluation.\n",
    "\n",
    "The following sections will explain the model that we will utilise in this notebook."
   ]
  },
  {
   "cell_type": "markdown",
   "id": "e616ec36-50c0-47b0-b6b8-e7efec5b4b22",
   "metadata": {},
   "source": [
    "## Multi-layer Perceptron Implementation\n",
    "---------------------------------------\n",
    "As we have seen in the previous section, A [multi-layer perceptron](https://www.datacamp.com/tutorial/multilayer-perceptrons-in-machine-learning) is a type of [feedforward neural network (FNN)](https://deepai.org/machine-learning-glossary-and-terms/feed-forward-neural-network) comprised of fully connected neurons with a non-linear activation function. It is commonly employed to differentiate data that cannot be separated linearly.\n",
    "\n",
    "![MLP](https://upload.wikimedia.org/wikipedia/commons/4/46/Colored_neural_network.svg)\n",
    "\n",
    "### Input layer:\n",
    "The input layer serves as the entry point for data into the neural network. Each neuron in this layer represents one feature from our dataset (such as petal length in the iris dataset). These neurons don't perform any computation - they simply pass the input values to the next layer.\n",
    "\n",
    "### Hidden layer:\n",
    "Hidden layers form the core computational engine of the neural network:\n",
    "\n",
    "- Each neuron connects to all neurons in the previous and next layers\n",
    "- These connections have associated weights that determine their importance\n",
    "- The network \"learns\" by adjusting these weights during training\n",
    "- Multiple hidden layers allow the network to build increasingly complex representations\n",
    "\n",
    "### Output layer:\n",
    "The output layer produces the final prediction or classification result. In our example dataset,\n",
    "\n",
    "- Each output neuron typically represents a different class (setosa, versicolor, or virginica in the iris example)\n",
    "- The number of output neurons depends on your specific task\n",
    "\n",
    "#### Workflow:\n",
    "- Information propagates in a forward direction through the network\n",
    "- Within each (artificial) neuron, input signals are aggregated via a weighted sum operation\n",
    "- This aggregated value is then passed through an activation function (introducing non-linearity). Common activation functions include [sigmoid](https://machinelearningmastery.com/a-gentle-introduction-to-sigmoid-function/), [tanh](https://www.geeksforgeeks.org/tanh-activation-in-neural-network/), [ReLU (Rectified Linear Unit)](https://medium.com/@gauravnair/the-spark-your-neural-network-needs-understanding-the-significance-of-activation-functions-6b82d5f27fbf#69d4), etc. In this course, we will be using rectified linear unit or ReLU as our activation function.\n",
    "- The resulting output is then forwarded to neurons in the subsequent layer\n",
    "\n",
    "\n",
    "Check out [Neural Network Playground](https://playground.tensorflow.org/) to visualise neural network and play around a bit with features like learning rate, activation, regularization, and problem type."
   ]
  },
  {
   "cell_type": "markdown",
   "id": "b6fe7f18-5e55-4803-88f2-1a6ec498a943",
   "metadata": {},
   "source": [
    "## Step 1: Define the MLP model"
   ]
  },
  {
   "cell_type": "code",
   "id": "7668a607-4e10-4878-995e-cbcb2c195df8",
   "metadata": {
    "ExecuteTime": {
     "end_time": "2025-03-18T18:34:02.289106Z",
     "start_time": "2025-03-18T18:34:02.286665Z"
    }
   },
   "source": [
    "class MLP(nn.Module):\n",
    "    def __init__(self, input_size, hidden_size, num_classes):\n",
    "        \"\"\"\n",
    "        Initialise a simple feedforward MLP architecture.\n",
    "        \n",
    "        Parameters:\n",
    "         input_size: Number of input features (e.g., 4 for Iris dataset)\n",
    "         hidden_size: Number of neurons in the hidden layer\n",
    "         num_classes: Number of output classes (e.g., 3 for Iris species)\n",
    "        \"\"\"\n",
    "        super(MLP, self).__init__()\n",
    "        \n",
    "        # First layer (input to hidden)\n",
    "        self.layer1 = nn.Linear(input_size, hidden_size)\n",
    "        self.relu = nn.ReLU()\n",
    "        \n",
    "        # Second layer (hidden to hidden)\n",
    "        self.layer2 = nn.Linear(hidden_size, hidden_size)\n",
    "        \n",
    "        # Output layer (hidden to output)\n",
    "        self.output = nn.Linear(hidden_size, num_classes)\n",
    "        \n",
    "    def forward(self, x):\n",
    "        \"\"\"\n",
    "        Define the forward pass through the network for a single input.\n",
    "        \n",
    "        Parameter:\n",
    "         x: Input tensor of shape [input_size] representing a single sample\n",
    "        \n",
    "        Returns:\n",
    "         Output tensor of shape [num_classes] for a single prediction\n",
    "        \"\"\"\n",
    "\n",
    "        # Forward pass through the network\n",
    "        # Each step applies a linear transformation followed by a non-linear activation\n",
    "        \n",
    "        x = self.layer1(x)\n",
    "        x = self.relu(x)\n",
    "            \n",
    "        x = self.layer2(x)\n",
    "        x = self.relu(x)\n",
    "            \n",
    "        x = self.output(x)\n",
    "        return x"
   ],
   "outputs": [],
   "execution_count": 648
  },
  {
   "cell_type": "markdown",
   "id": "c3980b7a-7a90-43f8-8635-cee961e494c6",
   "metadata": {},
   "source": [
    "## Step 2: Set model parameters"
   ]
  },
  {
   "cell_type": "code",
   "id": "45de0023-8692-4fe1-9dcd-2e387fe22f61",
   "metadata": {
    "ExecuteTime": {
     "end_time": "2025-03-18T18:34:02.305154Z",
     "start_time": "2025-03-18T18:34:02.303625Z"
    }
   },
   "source": [
    "input_size = 4    # Assuming 4 features (like Iris dataset)\n",
    "hidden_size = 16  # Neurons in hidden layer\n",
    "num_classes = 3   # Output classes "
   ],
   "outputs": [],
   "execution_count": 649
  },
  {
   "cell_type": "markdown",
   "id": "7a59629b-13c0-4b47-bc98-be6c608ad569",
   "metadata": {},
   "source": [
    "## Step 3: Initialise model"
   ]
  },
  {
   "cell_type": "code",
   "id": "7bc2760c-34be-41af-a4eb-61821c046e7b",
   "metadata": {
    "ExecuteTime": {
     "end_time": "2025-03-18T18:34:02.322531Z",
     "start_time": "2025-03-18T18:34:02.320194Z"
    }
   },
   "source": [
    "model = MLP(input_size, hidden_size, num_classes)\n",
    "model"
   ],
   "outputs": [
    {
     "data": {
      "text/plain": [
       "MLP(\n",
       "  (layer1): Linear(in_features=4, out_features=16, bias=True)\n",
       "  (relu): ReLU()\n",
       "  (layer2): Linear(in_features=16, out_features=16, bias=True)\n",
       "  (output): Linear(in_features=16, out_features=3, bias=True)\n",
       ")"
      ]
     },
     "execution_count": 650,
     "metadata": {},
     "output_type": "execute_result"
    }
   ],
   "execution_count": 650
  },
  {
   "cell_type": "markdown",
   "id": "30083e68-eae0-485b-aba1-08453df5de04",
   "metadata": {},
   "source": [
    "## Step 4: Loss function"
   ]
  },
  {
   "cell_type": "code",
   "id": "f5801bf5-f926-411f-abbe-a6a5410233b5",
   "metadata": {
    "ExecuteTime": {
     "end_time": "2025-03-18T18:34:02.344873Z",
     "start_time": "2025-03-18T18:34:02.337Z"
    }
   },
   "source": [
    "def calculate_loss(model, X, y_true):\n",
    "    \"\"\"\n",
    "    Calculate loss for the model without training.\n",
    "    \n",
    "    Parameters:\n",
    "     model: The MLP model\n",
    "     X: Input features (torch tensor) - single sample, not batched\n",
    "     y_true: True label (torch tensor) - single label, not batched\n",
    "    \n",
    "    Returns:\n",
    "     loss: Sum of squared errors loss value\n",
    "    \"\"\"\n",
    "    \n",
    "    # Add batch dimension of 1 for model compatibility\n",
    "    X_input = X.unsqueeze(0)  # Adds batch dimension [1, input_features]\n",
    "    y_pred = model(X_input)   # y_pred shape: [1, num_classes]\n",
    "    \n",
    "    # Get number of classes from model's output layer\n",
    "    num_classes = model.output.out_features\n",
    "    \n",
    "    # Create one-hot encoded label for a single sample\n",
    "    \"\"\"\n",
    "    as we are working with a classification problem that has 3 possible classes (0, 1, and 2). \n",
    "    Using one-hot encoding gives us:\n",
    "\n",
    "    Class 0 becomes: [1, 0, 0, 0]\n",
    "    Class 1 becomes: [0, 1, 0, 0]\n",
    "    Class 2 becomes: [0, 0, 1, 0]\n",
    "\n",
    "    \"\"\"\n",
    "    y_true_one_hot = torch.zeros(1, num_classes)\n",
    "    \n",
    "    # Convert label tensor to integer and set the appropriate position to 1\n",
    "    label_idx = y_true.item()\n",
    "    y_true_one_hot[0, label_idx] = 1\n",
    "    \n",
    "    # Calculate sum of squared errors between prediction and one-hot label\n",
    "    squared_errors = (y_pred - y_true_one_hot) ** 2\n",
    "    loss = torch.sum(squared_errors)\n",
    "    \n",
    "    # Calculate and print the loss value\n",
    "    loss_value = loss.item()\n",
    "    print(f\"Current SSE loss: {loss_value:.4f}\")\n",
    "    \n",
    "    # Return the loss as a Python float\n",
    "    return loss_value\n",
    "###############################################################\n",
    "# Usage with individual data points\n",
    "total_loss = 0\n",
    "num_samples = 0\n",
    "\n",
    "# Iterate through the dataset individually\n",
    "for features, labels in train_loader:\n",
    "    for i in range(features.size(0)):\n",
    "        \n",
    "        # Extract individual feature and label\n",
    "        single_feature = features[i]  # Single feature\n",
    "        single_label = labels[i]      # Single label\n",
    "        \n",
    "        # Calculate loss for individual sample\n",
    "        loss = calculate_loss(model, single_feature, single_label)\n",
    "        total_loss += loss\n",
    "        num_samples += 1\n",
    "\n",
    "# Calculate average loss across all processed samples\n",
    "if num_samples > 0:\n",
    "    avg_loss = total_loss / num_samples\n",
    "    print(f\"Average SSE loss across {num_samples} samples: {avg_loss:.4f}\")"
   ],
   "outputs": [
    {
     "name": "stdout",
     "output_type": "stream",
     "text": [
      "Current SSE loss: 0.7228\n",
      "Current SSE loss: 1.1691\n",
      "Current SSE loss: 1.1490\n",
      "Current SSE loss: 1.1503\n",
      "Current SSE loss: 0.8969\n",
      "Current SSE loss: 1.0957\n",
      "Current SSE loss: 1.0180\n",
      "Current SSE loss: 0.8065\n",
      "Current SSE loss: 1.1698\n",
      "Current SSE loss: 1.1303\n",
      "Current SSE loss: 0.8130\n",
      "Current SSE loss: 0.7552\n",
      "Current SSE loss: 1.1469\n",
      "Current SSE loss: 0.6911\n",
      "Current SSE loss: 0.5706\n",
      "Current SSE loss: 1.1311\n",
      "Current SSE loss: 0.6595\n",
      "Current SSE loss: 0.6469\n",
      "Current SSE loss: 1.1048\n",
      "Current SSE loss: 1.0733\n",
      "Current SSE loss: 0.7459\n",
      "Current SSE loss: 0.7640\n",
      "Current SSE loss: 0.6062\n",
      "Current SSE loss: 1.1693\n",
      "Current SSE loss: 0.7756\n",
      "Current SSE loss: 1.1451\n",
      "Current SSE loss: 0.8533\n",
      "Current SSE loss: 0.7092\n",
      "Current SSE loss: 0.8124\n",
      "Current SSE loss: 1.0941\n",
      "Current SSE loss: 0.9238\n",
      "Current SSE loss: 0.9277\n",
      "Current SSE loss: 0.9459\n",
      "Current SSE loss: 0.8963\n",
      "Current SSE loss: 0.5706\n",
      "Current SSE loss: 0.8080\n",
      "Current SSE loss: 0.6562\n",
      "Current SSE loss: 0.6430\n",
      "Current SSE loss: 1.2082\n",
      "Current SSE loss: 0.7905\n",
      "Current SSE loss: 0.8810\n",
      "Current SSE loss: 0.8734\n",
      "Current SSE loss: 0.8419\n",
      "Current SSE loss: 1.1416\n",
      "Current SSE loss: 0.9276\n",
      "Current SSE loss: 1.1631\n",
      "Current SSE loss: 0.8892\n",
      "Current SSE loss: 1.0863\n",
      "Current SSE loss: 0.9179\n",
      "Current SSE loss: 0.8696\n",
      "Current SSE loss: 0.8938\n",
      "Current SSE loss: 0.8491\n",
      "Current SSE loss: 1.1334\n",
      "Current SSE loss: 0.8939\n",
      "Current SSE loss: 0.8274\n",
      "Current SSE loss: 1.1299\n",
      "Current SSE loss: 0.6962\n",
      "Current SSE loss: 0.5717\n",
      "Current SSE loss: 0.5745\n",
      "Current SSE loss: 0.8045\n",
      "Current SSE loss: 0.7790\n",
      "Current SSE loss: 0.6498\n",
      "Current SSE loss: 0.9824\n",
      "Current SSE loss: 1.1185\n",
      "Current SSE loss: 0.9840\n",
      "Current SSE loss: 0.8377\n",
      "Current SSE loss: 1.1615\n",
      "Current SSE loss: 1.1274\n",
      "Current SSE loss: 1.1510\n",
      "Current SSE loss: 0.6337\n",
      "Current SSE loss: 0.7868\n",
      "Current SSE loss: 0.7024\n",
      "Current SSE loss: 1.0927\n",
      "Current SSE loss: 1.0846\n",
      "Current SSE loss: 0.6540\n",
      "Current SSE loss: 0.6323\n",
      "Current SSE loss: 0.6589\n",
      "Current SSE loss: 0.8291\n",
      "Current SSE loss: 0.6542\n",
      "Current SSE loss: 0.7578\n",
      "Current SSE loss: 1.1601\n",
      "Current SSE loss: 1.0316\n",
      "Current SSE loss: 1.1733\n",
      "Current SSE loss: 0.8348\n",
      "Current SSE loss: 0.7712\n",
      "Current SSE loss: 1.0689\n",
      "Current SSE loss: 0.7595\n",
      "Current SSE loss: 1.1017\n",
      "Current SSE loss: 1.2820\n",
      "Current SSE loss: 0.8191\n",
      "Current SSE loss: 1.1322\n",
      "Current SSE loss: 1.1592\n",
      "Current SSE loss: 0.6787\n",
      "Current SSE loss: 0.9064\n",
      "Current SSE loss: 1.1202\n",
      "Current SSE loss: 0.8860\n",
      "Current SSE loss: 0.9232\n",
      "Current SSE loss: 0.6513\n",
      "Current SSE loss: 1.0015\n",
      "Current SSE loss: 0.6629\n",
      "Current SSE loss: 1.0637\n",
      "Current SSE loss: 0.6383\n",
      "Current SSE loss: 1.1694\n",
      "Current SSE loss: 1.0614\n",
      "Current SSE loss: 1.0100\n",
      "Current SSE loss: 0.6224\n",
      "Current SSE loss: 1.1333\n",
      "Current SSE loss: 0.5875\n",
      "Current SSE loss: 1.0135\n",
      "Current SSE loss: 0.7730\n",
      "Current SSE loss: 0.8655\n",
      "Current SSE loss: 1.0531\n",
      "Current SSE loss: 1.1906\n",
      "Current SSE loss: 0.6313\n",
      "Current SSE loss: 1.1706\n",
      "Current SSE loss: 0.5915\n",
      "Current SSE loss: 0.6382\n",
      "Current SSE loss: 1.0953\n",
      "Current SSE loss: 0.8282\n",
      "Current SSE loss: 1.1624\n",
      "Average SSE loss across 120 samples: 0.9051\n"
     ]
    }
   ],
   "execution_count": 651
  },
  {
   "metadata": {},
   "cell_type": "markdown",
   "source": "",
   "id": "277c94480f7f1f75"
  },
  {
   "metadata": {},
   "cell_type": "markdown",
   "source": [
    "## Step 5: Train the Model\n",
    "\n",
    "Let’s train our MLP to improve its predictions using the training data!"
   ],
   "id": "bd0681a32f0facb8"
  },
  {
   "metadata": {
    "ExecuteTime": {
     "end_time": "2025-03-18T18:34:02.463503Z",
     "start_time": "2025-03-18T18:34:02.360008Z"
    }
   },
   "cell_type": "code",
   "source": [
    "import torch.optim as optim\n",
    "\n",
    "# Set up optimizer\n",
    "optimizer = optim.SGD(model.parameters(), lr=0.01)\n",
    "num_epochs = 100\n",
    "train_losses = []\n",
    "\n",
    "# Training loop\n",
    "for epoch in range(num_epochs):\n",
    "    model.train()  # Set to training mode\n",
    "    total_loss = 0\n",
    "    for features, labels in train_loader:\n",
    "        optimizer.zero_grad()\n",
    "        outputs = model(features) \n",
    "        # Create one-hot encoded labels\n",
    "        one_hot = torch.zeros_like(outputs).scatter_(1, labels.unsqueeze(1), 1)\n",
    "        loss = torch.sum((outputs - one_hot) ** 2)  # SSE loss\n",
    "        loss.backward()\n",
    "        optimizer.step()\n",
    "        total_loss += loss.item()\n",
    "    \n",
    "    avg_loss = total_loss / len(X_train)\n",
    "    train_losses.append(avg_loss)\n",
    "    if (epoch + 1) % 20 == 0:\n",
    "        print(f\"Epoch [{epoch+1}/{num_epochs}], Avg SSE Loss: {avg_loss:.4f}\")\n",
    "\n",
    "# Plot training loss curve\n",
    "plt.plot(train_losses)\n",
    "plt.xlabel(\"Epoch\")\n",
    "plt.ylabel(\"Average SSE Loss\")\n",
    "plt.title(\"Training Loss Curve\")\n",
    "plt.show()"
   ],
   "id": "e7a4dcf156537da4",
   "outputs": [
    {
     "name": "stdout",
     "output_type": "stream",
     "text": [
      "Epoch [20/100], Avg SSE Loss: 0.1642\n",
      "Epoch [40/100], Avg SSE Loss: 0.0544\n",
      "Epoch [60/100], Avg SSE Loss: 0.0698\n",
      "Epoch [80/100], Avg SSE Loss: 0.0376\n",
      "Epoch [100/100], Avg SSE Loss: 0.0517\n"
     ]
    },
    {
     "data": {
      "text/plain": [
       "<Figure size 640x480 with 1 Axes>"
      ],
      "image/png": "[encoded data removed]"
     },
     "metadata": {},
     "output_type": "display_data"
    }
   ],
   "execution_count": 652
  },
  {
   "metadata": {},
   "cell_type": "markdown",
   "source": [
    "## Step 6: Evaluate Test Loss and Accuracy\n",
    "\n",
    "Now, let’s evaluate the trained model on the test set to see how well it generalizes!"
   ],
   "id": "40d9e9e2494383f8"
  },
  {
   "metadata": {
    "ExecuteTime": {
     "end_time": "2025-03-18T18:34:02.482023Z",
     "start_time": "2025-03-18T18:34:02.479146Z"
    }
   },
   "cell_type": "code",
   "source": [
    "# Set to evaluation mode\n",
    "model.eval()\n",
    "total_test_loss = 0\n",
    "correct = 0\n",
    "\n",
    "# Evaluation loop\n",
    "with torch.no_grad():\n",
    "    for features, labels in test_loader:\n",
    "        outputs = model(features)\n",
    "        one_hot = torch.zeros_like(outputs).scatter_(1, labels.unsqueeze(1), 1)\n",
    "        loss = torch.sum((outputs - one_hot) ** 2)\n",
    "        total_test_loss += loss.item()\n",
    "        preds = outputs.argmax(dim=1)\n",
    "        correct += (preds == labels).sum().item()\n",
    "\n",
    "# Calculate metrics\n",
    "avg_test_loss = total_test_loss / len(X_test)\n",
    "accuracy = correct / len(X_test)\n",
    "print(f\"Average SSE Test Loss: {avg_test_loss:.4f}\")\n",
    "print(f\"Test Accuracy: {accuracy:.4f}\")"
   ],
   "id": "e92bd7236faa0597",
   "outputs": [
    {
     "name": "stdout",
     "output_type": "stream",
     "text": [
      "Average SSE Test Loss: 0.0441\n",
      "Test Accuracy: 0.9667\n"
     ]
    }
   ],
   "execution_count": 653
  }
 ],
 "metadata": {
  "kernelspec": {
   "display_name": "py312",
   "language": "python",
   "name": "py312"
  },
  "language_info": {
   "codemirror_mode": {
    "name": "ipython",
    "version": 3
   },
   "file_extension": ".py",
   "mimetype": "text/x-python",
   "name": "python",
   "nbconvert_exporter": "python",
   "pygments_lexer": "ipython3",
   "version": "3.9.21"
  }
 },
 "nbformat": 4,
 "nbformat_minor": 5
}
