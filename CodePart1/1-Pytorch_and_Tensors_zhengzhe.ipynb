{
 "cells": [
  {
   "cell_type": "markdown",
   "id": "f0c4a454-d0f4-4d66-af7b-f59703d7f53a",
   "metadata": {},
   "source": [
    "# Basics of installing PyTorch (CUDA) in Anaconda\n",
    "- Open Anaconda Powershell Prompt\n",
    "- Create new virtual environment: `conda create -n py312 python=3.12`\n",
    "- Activate it: `conda activate py312`\n",
    "- Install PyTorch using CONDA: `conda install pytorch torchvision torchaudio pytorch-cuda=12.1 -c pytorch -c nvidia`\n",
    "- Verify PyTorch installation: `python -c \"import torch; print(torch.__version__)\"`\n",
    "- Verify CUDA availability: `python -c \"import torch; print(torch.cuda.is_available())\"`\n",
    "### Alternative PyTorch\n",
    "- Install PyTorch for CPU: `conda install pytorch torchvision torchaudio cpuonly -c pytorch`"
   ]
  },
  {
   "cell_type": "markdown",
   "id": "01f4fdeb-283d-45ab-a3c1-5fc898500cec",
   "metadata": {},
   "source": [
    "## Tips to redirect your Jupyter Notebook kernel to the new environment\n",
    "Activate your virtual environment first on Anaconda Powershell Prompt\n",
    "- #### Install ipykernel\n",
    "`conda install ipykernel`\n",
    "\n",
    "- #### Add the environment to Jupyter (e.g. if your virtual environment name is py312)\n",
    "`python -m ipykernel install --user --name=py312`"
   ]
  },
  {
   "cell_type": "code",
   "id": "ac2df348-a993-4323-89dd-40510fafa5a4",
   "metadata": {
    "ExecuteTime": {
     "end_time": "2025-04-07T09:19:39.264768Z",
     "start_time": "2025-04-07T09:19:39.254795Z"
    }
   },
   "source": [
    "# check if PyTorch exists otherwise follow the above steps to install PyTorch\n",
    "\n",
    "import torch\n",
    "torch.__version__"
   ],
   "outputs": [
    {
     "data": {
      "text/plain": [
       "'2.5.1'"
      ]
     },
     "execution_count": 22,
     "metadata": {},
     "output_type": "execute_result"
    }
   ],
   "execution_count": 22
  },
  {
   "cell_type": "markdown",
   "id": "c21e82fc-949c-403e-b4e2-42de07a5502c",
   "metadata": {},
   "source": [
    "# Introduction to PyTorch and Tensors\n",
    "-------------------------------------------\n",
    "A tensor can be viewed as a multi-dimensional array. Similar to how an n-dimensional vector is shown as a one-dimensional array with _n_ elements relative to a specific basis, any tensor can be expressed as a multi-dimensional array when referenced to a basis. The individual values within this multi-dimensional structure are referred to as the tensor's components.\n",
    "\n",
    "[PyTorch](https://pytorch.org/foundation) is an open-source machine learning library developed by Facebook's AI Research lab. It's known for its flexibility, intuitive design, and dynamic computational graph which makes debugging easier.\n",
    "This library offers multi-dimensional tensor data structures and implements various mathematical functions to manipulate these tensors. It also includes numerous tools for effective tensor serialisation, handling arbitrary data types, and provides several other practical utilities.\n",
    "\n",
    "PyTorch shares significant similarities with NumPy, though it uses the term ''tensor'' instead of ''N-dimensional array''. For example,"
   ]
  },
  {
   "cell_type": "code",
   "id": "1e5e8928-5f2d-42a3-be42-5717dd3f64b5",
   "metadata": {
    "ExecuteTime": {
     "end_time": "2025-04-07T09:19:39.317110Z",
     "start_time": "2025-04-07T09:19:39.282516Z"
    }
   },
   "source": [
    "import torch\n",
    "import numpy as np\n",
    "\n",
    "array_np = np.array([[1, 2, 3],\n",
    "                    [4, 5, 6]])\n",
    "array_pytorch = torch.tensor([[1, 2, 3],\n",
    "                             [4, 5, 6]])\n",
    "print(array_np)\n",
    "print(array_pytorch)"
   ],
   "outputs": [
    {
     "name": "stdout",
     "output_type": "stream",
     "text": [
      "[[1 2 3]\n",
      " [4 5 6]]\n",
      "tensor([[1, 2, 3],\n",
      "        [4, 5, 6]])\n"
     ]
    }
   ],
   "execution_count": 23
  },
  {
   "cell_type": "markdown",
   "id": "cf8fab10-39c0-400b-816d-78b04f245f70",
   "metadata": {},
   "source": "Now let us create tensors and do some operations in PyTorch."
  },
  {
   "cell_type": "code",
   "id": "6884768c-9088-4bdc-826f-d24b6bb86e1d",
   "metadata": {
    "ExecuteTime": {
     "end_time": "2025-04-07T09:19:39.344400Z",
     "start_time": "2025-04-07T09:19:39.338102Z"
    }
   },
   "source": [
    "# create specific tensors\n",
    "zeros = torch.zeros(3, 4)  # 3x4 tensor of zeros\n",
    "ones = torch.ones(2, 3)    # 2x3 tensor of ones\n",
    "rand = torch.rand(2, 2)    # 2x2 tensor of random numbers (0-1)"
   ],
   "outputs": [],
   "execution_count": 24
  },
  {
   "cell_type": "code",
   "id": "8cdd9025-85ab-4d32-85e7-a03626217eff",
   "metadata": {
    "ExecuteTime": {
     "end_time": "2025-04-07T09:19:39.362415Z",
     "start_time": "2025-04-07T09:19:39.357434Z"
    }
   },
   "source": [
    "# Create a 2x3 tensor\n",
    "a = torch.tensor([[1, 2, 3], [4, 5, 6]])\n",
    "a.shape  # dimension of the tensor a"
   ],
   "outputs": [
    {
     "data": {
      "text/plain": [
       "torch.Size([2, 3])"
      ]
     },
     "execution_count": 25,
     "metadata": {},
     "output_type": "execute_result"
    }
   ],
   "execution_count": 25
  },
  {
   "cell_type": "code",
   "id": "19e4049d-86df-4275-aa98-71ee3b26ca51",
   "metadata": {
    "ExecuteTime": {
     "end_time": "2025-04-07T09:19:39.389753Z",
     "start_time": "2025-04-07T09:19:39.386575Z"
    }
   },
   "source": [
    "# Create tensor b of the same shape with tensor a\n",
    "b = torch.tensor([[7, 8, 9], [10, 11, 12]])\n",
    "# Add the tensors\n",
    "result = a + b\n",
    "print(result)"
   ],
   "outputs": [
    {
     "name": "stdout",
     "output_type": "stream",
     "text": [
      "tensor([[ 8, 10, 12],\n",
      "        [14, 16, 18]])\n"
     ]
    }
   ],
   "execution_count": 26
  },
  {
   "cell_type": "code",
   "id": "dfd4a3bd-d5f5-4aed-9a61-2020894004be",
   "metadata": {
    "ExecuteTime": {
     "end_time": "2025-04-07T09:19:39.471482Z",
     "start_time": "2025-04-07T09:19:39.466292Z"
    }
   },
   "source": [
    "# Create two 2x2 matrices\n",
    "matrix_a = torch.tensor([[1, 2], [3, 4]])\n",
    "matrix_b = torch.tensor([[5, 6], [7, 8]])\n",
    "# Perform matrix multiplication using torch.matmul\n",
    "matrix_mult_result = torch.matmul(matrix_a, matrix_b)\n",
    "print(matrix_mult_result)"
   ],
   "outputs": [
    {
     "name": "stdout",
     "output_type": "stream",
     "text": [
      "tensor([[19, 22],\n",
      "        [43, 50]])\n"
     ]
    }
   ],
   "execution_count": 27
  },
  {
   "cell_type": "code",
   "id": "522234ce-9dc4-4e15-8428-c86a442968cc",
   "metadata": {
    "ExecuteTime": {
     "end_time": "2025-04-07T09:19:39.554866Z",
     "start_time": "2025-04-07T09:19:39.550675Z"
    }
   },
   "source": [
    "# Create two 1D tensors (vectors)\n",
    "vector_a = torch.tensor([1, 2, 3])\n",
    "vector_b = torch.tensor([4, 5, 6])\n",
    "# Computing the dot product between two vectors using torch.dot\n",
    "dot_product_result = torch.dot(vector_a, vector_b)\n",
    "print(dot_product_result)"
   ],
   "outputs": [
    {
     "name": "stdout",
     "output_type": "stream",
     "text": [
      "tensor(32)\n"
     ]
    }
   ],
   "execution_count": 28
  },
  {
   "metadata": {},
   "cell_type": "markdown",
   "source": [
    "In this section, we have introduced some basic tensor operations.\n",
    "To learn more about tensor operations, refer to the official documentation:\n",
    "[Tensor Operations](https://pytorch.org/docs/stable/tensors.html)"
   ],
   "id": "4c77de268936f1cf"
  }
 ],
 "metadata": {
  "kernelspec": {
   "display_name": "py312",
   "language": "python",
   "name": "py312"
  },
  "language_info": {
   "codemirror_mode": {
    "name": "ipython",
    "version": 3
   },
   "file_extension": ".py",
   "mimetype": "text/x-python",
   "name": "python",
   "nbconvert_exporter": "python",
   "pygments_lexer": "ipython3",
   "version": "3.9.21"
  }
 },
 "nbformat": 4,
 "nbformat_minor": 5
}
