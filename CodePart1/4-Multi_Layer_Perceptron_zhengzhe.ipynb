{
 "cells": [
  {
   "cell_type": "markdown",
   "id": "e616ec36-50c0-47b0-b6b8-e7efec5b4b22",
   "metadata": {},
   "source": [
    "## Multi-layer Perceptron Implementation\n",
    "---------------------------------------\n",
    "A [multi-layer perceptron](https://www.datacamp.com/tutorial/multilayer-perceptrons-in-machine-learning) is a type of [feedforward neural network (FNN)](https://deepai.org/machine-learning-glossary-and-terms/feed-forward-neural-network). It is composed of fully connected layers and non-linear activation functions, and is commonly used for classifying data that cannot be separated by a straight line.\n",
    "\n",
    "![MLP](https://upload.wikimedia.org/wikipedia/commons/4/46/Colored_neural_network.svg)\n",
    "\n",
    "### Input layer:\n",
    "Each neuron represents a feature (e.g. petal length). This layer passes data forward without performing computation.\n",
    "\n",
    "### Hidden layer:\n",
    "Hidden layers form the core of the neural network. Neurons:\n",
    "\n",
    "- Receive inputs from all previous-layer neurons (fully connected)\n",
    "- Apply a weighted sum and a non-linear activation function (like ReLU)\n",
    "- Learn by updating weights during training\n",
    "\n",
    "### Output layer:\n",
    "Generates the prediction. For classification tasks like the Iris dataset, each neuron can represent a class (e.g. setosa, versicolor, virginica).\n",
    "\n",
    "\n",
    "Check out [Neural Network Playground](https://playground.tensorflow.org/) to experiment with layers, activations, and more."
   ]
  },
  {
   "cell_type": "markdown",
   "id": "b6fe7f18-5e55-4803-88f2-1a6ec498a943",
   "metadata": {},
   "source": [
    "## Step 1: Define the MLP model"
   ]
  },
  {
   "cell_type": "code",
   "id": "7668a607-4e10-4878-995e-cbcb2c195df8",
   "metadata": {
    "ExecuteTime": {
     "end_time": "2025-04-07T09:21:11.722327Z",
     "start_time": "2025-04-07T09:21:11.719430Z"
    }
   },
   "source": [
    "import torch.nn as nn\n",
    "class MLP(nn.Module):\n",
    "    def __init__(self, input_size, hidden_size, num_classes):\n",
    "        \"\"\"\n",
    "        Initialise a simple feedforward MLP architecture.\n",
    "        \n",
    "        Parameters:\n",
    "         input_size: Number of input features (e.g., 4 for Iris dataset)\n",
    "         hidden_size: Number of neurons in the hidden layer\n",
    "         num_classes: Number of output classes (e.g., 3 for Iris species)\n",
    "        \"\"\"\n",
    "        super(MLP, self).__init__()\n",
    "        \n",
    "        # First layer (input to hidden)\n",
    "        self.layer1 = nn.Linear(input_size, hidden_size)\n",
    "        self.relu = nn.ReLU()\n",
    "        \n",
    "        # Second layer (hidden to hidden)\n",
    "        self.layer2 = nn.Linear(hidden_size, hidden_size)\n",
    "        \n",
    "        # Output layer (hidden to output)\n",
    "        self.output = nn.Linear(hidden_size, num_classes)\n",
    "        \n",
    "    def forward(self, x):\n",
    "        \"\"\"\n",
    "        Define the forward pass through the network for a single input.\n",
    "        \n",
    "        Parameter:\n",
    "         x: Input tensor of shape [input_size] representing a single sample\n",
    "        \n",
    "        Returns:\n",
    "         Output tensor of shape [num_classes] for a single prediction\n",
    "        \"\"\"\n",
    "\n",
    "        # Forward pass through the network\n",
    "        # Each step applies a linear transformation followed by a non-linear activation\n",
    "        \n",
    "        x = self.layer1(x)\n",
    "        x = self.relu(x)\n",
    "            \n",
    "        x = self.layer2(x)\n",
    "        x = self.relu(x)\n",
    "            \n",
    "        x = self.output(x)\n",
    "        return x"
   ],
   "outputs": [],
   "execution_count": 242
  },
  {
   "cell_type": "markdown",
   "id": "c3980b7a-7a90-43f8-8635-cee961e494c6",
   "metadata": {},
   "source": "## Step 2: Set model parameters and initialise model"
  },
  {
   "cell_type": "code",
   "id": "45de0023-8692-4fe1-9dcd-2e387fe22f61",
   "metadata": {
    "ExecuteTime": {
     "end_time": "2025-04-07T09:21:11.729607Z",
     "start_time": "2025-04-07T09:21:11.726887Z"
    }
   },
   "source": [
    "input_size = 4    # Assuming 4 features (like Iris dataset)\n",
    "hidden_size = 16  # Neurons in hidden layer\n",
    "num_classes = 3   # Output classes \n",
    "model = MLP(input_size, hidden_size, num_classes)\n",
    "model"
   ],
   "outputs": [
    {
     "data": {
      "text/plain": [
       "MLP(\n",
       "  (layer1): Linear(in_features=4, out_features=16, bias=True)\n",
       "  (relu): ReLU()\n",
       "  (layer2): Linear(in_features=16, out_features=16, bias=True)\n",
       "  (output): Linear(in_features=16, out_features=3, bias=True)\n",
       ")"
      ]
     },
     "execution_count": 243,
     "metadata": {},
     "output_type": "execute_result"
    }
   ],
   "execution_count": 243
  },
  {
   "cell_type": "markdown",
   "id": "30083e68-eae0-485b-aba1-08453df5de04",
   "metadata": {},
   "source": "## Step 3: Loss function"
  },
  {
   "cell_type": "code",
   "id": "f5801bf5-f926-411f-abbe-a6a5410233b5",
   "metadata": {
    "ExecuteTime": {
     "end_time": "2025-04-07T09:21:11.744513Z",
     "start_time": "2025-04-07T09:21:11.742176Z"
    }
   },
   "source": [
    "def calculate_loss(model, X, y_true):\n",
    "    \"\"\"\n",
    "    Calculate loss for the model without training.\n",
    "    \n",
    "    Parameters:\n",
    "     model: The MLP model\n",
    "     X: Input features (torch tensor) - single sample, not batched\n",
    "     y_true: True label (torch tensor) - single label, not batched\n",
    "    \n",
    "    Returns:\n",
    "     loss: Sum of squared errors loss value\n",
    "    \"\"\"\n",
    "    \n",
    "    # Add batch dimension of 1 for model compatibility\n",
    "    X_input = X.unsqueeze(0)  # Adds batch dimension [1, input_features]\n",
    "    y_pred = model(X_input)   # y_pred shape: [1, num_classes]\n",
    "    \n",
    "    # Get number of classes from model's output layer\n",
    "    num_classes = model.output.out_features\n",
    "    \n",
    "    # Create one-hot encoded label for a single sample\n",
    "    \"\"\"\n",
    "    as we are working with a classification problem that has 3 possible classes (0, 1, and 2). \n",
    "    Using one-hot encoding gives us:\n",
    "\n",
    "    Class 0 becomes: [1, 0, 0]\n",
    "    Class 1 becomes: [0, 1, 0]\n",
    "    Class 2 becomes: [0, 0, 1]\n",
    "\n",
    "    \"\"\"\n",
    "    y_true_one_hot = torch.zeros(1, num_classes)\n",
    "    \n",
    "    # Convert label tensor to integer and set the appropriate position to 1\n",
    "    label_idx = y_true.item()\n",
    "    y_true_one_hot[0, label_idx] = 1\n",
    "    \n",
    "    # Calculate sum of squared errors between prediction and one-hot label\n",
    "    squared_errors = (y_pred - y_true_one_hot) ** 2\n",
    "    loss = torch.sum(squared_errors)\n",
    "    \n",
    "    # Calculate and print the loss value\n",
    "    loss_value = loss.item()\n",
    "    \n",
    "    # Return the loss as a Python float\n",
    "    return loss_value"
   ],
   "outputs": [],
   "execution_count": 244
  },
  {
   "metadata": {},
   "cell_type": "markdown",
   "source": "## Step 4: Prepare Iris Test Dataset",
   "id": "6c71acb3d7cf9869"
  },
  {
   "metadata": {
    "ExecuteTime": {
     "end_time": "2025-04-07T09:21:11.759774Z",
     "start_time": "2025-04-07T09:21:11.756053Z"
    }
   },
   "cell_type": "code",
   "source": [
    "# In this step, the process is identical to the data handling steps in \"DataPipeline\" notebook.\n",
    "from sklearn.model_selection import train_test_split\n",
    "from sklearn.datasets import load_iris\n",
    "import torch\n",
    "from torch.utils.data import TensorDataset, DataLoader\n",
    "from sklearn.preprocessing import StandardScaler\n",
    "# load the dataset\n",
    "iris = load_iris()\n",
    "# extract features and target classes\n",
    "X = iris.data\n",
    "y = iris.target\n",
    "X_train, X_test, y_train, y_test = train_test_split(X, y, test_size=0.2, random_state=42)\n",
    "# standardise the feature data\n",
    "scaler = StandardScaler()\n",
    "X_train = scaler.fit_transform(X_train)\n",
    "X_test = scaler.transform(X_test)\n",
    "X_test_tensor = torch.FloatTensor(X_test)\n",
    "y_test_tensor = torch.LongTensor(y_test)\n",
    "batch_size = 30\n",
    "test_dataset = TensorDataset(X_test_tensor, y_test_tensor)\n",
    "test_loader = DataLoader(test_dataset, batch_size=batch_size, shuffle=True)"
   ],
   "id": "d6b87f8ed6e11d36",
   "outputs": [],
   "execution_count": 245
  },
  {
   "metadata": {},
   "cell_type": "markdown",
   "source": "## Step 5: Evaluate Test Loss and Accuracy\n",
   "id": "40d9e9e2494383f8"
  },
  {
   "metadata": {
    "ExecuteTime": {
     "end_time": "2025-04-07T09:21:11.823133Z",
     "start_time": "2025-04-07T09:21:11.771370Z"
    }
   },
   "cell_type": "code",
   "source": [
    "import matplotlib.pyplot as plt\n",
    "# Initialize a list to store the individual losses\n",
    "losses = []\n",
    "# Evaluate the average SSE loss of the model on the test_dataset\n",
    "model.eval()\n",
    "total_test_loss = 0\n",
    "num_test_samples = 0\n",
    "\n",
    "with torch.no_grad():\n",
    "    for features, labels in test_loader:\n",
    "        for i in range(features.size(0)):\n",
    "            # Extract individual feature and label\n",
    "            single_feature = features[i]\n",
    "            single_label = labels[i]\n",
    "\n",
    "            # Calculate loss for individual sample\n",
    "            loss = calculate_loss(model, single_feature, single_label)\n",
    "            losses.append(loss)\n",
    "            total_test_loss += loss\n",
    "            num_test_samples += 1\n",
    "\n",
    "# Calculate average loss across all processed samples\n",
    "if num_test_samples > 0:\n",
    "    avg_test_loss = total_test_loss / num_test_samples\n",
    "    print(f\"\\nAverage SSE loss on test set ({num_test_samples} samples): {avg_test_loss:.4f}\")\n",
    "    \n",
    "    # Plot the distribution of losses\n",
    "    plt.figure(figsize=(8, 6))\n",
    "    plt.hist(losses, bins=20, edgecolor='k', alpha=0.7)\n",
    "    plt.title('Distribution of SSE Losses on Test Set')\n",
    "    plt.xlabel('SSE Loss')\n",
    "    plt.ylabel('Frequency')\n",
    "    plt.grid(True)\n",
    "    plt.show()"
   ],
   "id": "e92bd7236faa0597",
   "outputs": [
    {
     "name": "stdout",
     "output_type": "stream",
     "text": [
      "\n",
      "Average SSE loss on test set (30 samples): 1.1583\n"
     ]
    },
    {
     "data": {
      "text/plain": [
       "<Figure size 800x600 with 1 Axes>"
      ],
      "image/png": "[encoded data removed]"
     },
     "metadata": {},
     "output_type": "display_data"
    }
   ],
   "execution_count": 246
  }
 ],
 "metadata": {
  "kernelspec": {
   "display_name": "py312",
   "language": "python",
   "name": "py312"
  },
  "language_info": {
   "codemirror_mode": {
    "name": "ipython",
    "version": 3
   },
   "file_extension": ".py",
   "mimetype": "text/x-python",
   "name": "python",
   "nbconvert_exporter": "python",
   "pygments_lexer": "ipython3",
   "version": "3.9.21"
  }
 },
 "nbformat": 4,
 "nbformat_minor": 5
}
