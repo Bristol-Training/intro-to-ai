{
 "cells": [
  {
   "cell_type": "markdown",
   "id": "0",
   "metadata": {},
   "source": [
    "# Multi-layer perceptron implementation\n",
    "\n",
    "A [multi-layer perceptron](https://www.datacamp.com/tutorial/multilayer-perceptrons-in-machine-learning) is a type of [feedforward neural network (FNN)](https://deepai.org/machine-learning-glossary-and-terms/feed-forward-neural-network). It is composed of fully connected layers and non-linear activation functions, and is commonly used for classifying data that cannot be separated by a straight line.\n",
    "\n",
    "![](https://upload.wikimedia.org/wikipedia/commons/4/46/Colored_neural_network.svg)\n",
    "\n",
    "### Input layer\n",
    "Each neuron represents a feature (e.g. petal length). This layer passes data forward without performing computation.\n",
    "\n",
    "### Hidden layer\n",
    "Hidden layers form the core of the neural network. Neurons:\n",
    "\n",
    "- Receive inputs from all previous-layer neurons (fully connected)\n",
    "- Apply a weighted sum and a non-linear activation function (like ReLU)\n",
    "- Learn by updating weights during training\n",
    "\n",
    "### Output layer\n",
    "Generates the prediction. For classification tasks like the Iris dataset, each neuron can represent a class (e.g. setosa, versicolor, virginica).\n",
    "\n",
    "\n",
    "Check out [Neural Network Playground](https://playground.tensorflow.org/) to experiment with layers, activations, and more."
   ]
  },
  {
   "cell_type": "markdown",
   "id": "1",
   "metadata": {},
   "source": [
    "## Step 1: Define the MLP model"
   ]
  },
  {
   "cell_type": "code",
   "execution_count": null,
   "id": "2",
   "metadata": {},
   "outputs": [],
   "source": [
    "import torch.nn as nn\n",
    "\n",
    "class MLP(nn.Module):\n",
    "    def __init__(self, input_size, hidden_size, num_classes):\n",
    "        \"\"\"\n",
    "        Initialise a simple feedforward MLP architecture.\n",
    "        \n",
    "        Parameters:\n",
    "         input_size: Number of input features (e.g., 4 for Iris dataset)\n",
    "         hidden_size: Number of neurons in the hidden layer\n",
    "         num_classes: Number of output classes (e.g., 3 for Iris species)\n",
    "        \"\"\"\n",
    "        super(MLP, self).__init__()\n",
    "        \n",
    "        # First layer (input to hidden)\n",
    "        self.layer1 = nn.Linear(input_size, hidden_size)\n",
    "        self.relu = nn.ReLU()\n",
    "        \n",
    "        # Second layer (hidden to hidden)\n",
    "        self.layer2 = nn.Linear(hidden_size, hidden_size)\n",
    "        \n",
    "        # Output layer (hidden to output)\n",
    "        self.output = nn.Linear(hidden_size, num_classes)\n",
    "        self.softmax = nn.Softmax(dim=1)  # Softmax for multi-class classification\n",
    "\n",
    "        \"\"\"\n",
    "        Softmax is applied to the output layer to convert raw scores (logits) into probabilities.\n",
    "        The dim=1 argument specifies that the softmax should be applied across the classes (columns) for each sample (row).\n",
    "        E.g. softmax([a, b, c]) = [exp(a)/(exp(a)+exp(b)+exp(c)), exp(b)/(exp(a)+exp(b)+exp(c)), exp(c)/(exp(a)+exp(b)+exp(c))]\n",
    "        This ensures that the output probabilities are between 0 and 1 and sum to 1 for each sample.\n",
    "        It's like sigmoid but for multi-class classification.\n",
    "        \"\"\"\n",
    "        \n",
    "    def forward(self, x):\n",
    "        \"\"\"\n",
    "        Define the forward pass through the network for a single input.\n",
    "        \n",
    "        Parameter:\n",
    "         x: Input tensor of shape [input_size] representing a single sample\n",
    "        \n",
    "        Returns:\n",
    "         Output tensor of shape [num_classes] for a single prediction\n",
    "        \"\"\"\n",
    "\n",
    "        # Forward pass through the network\n",
    "        # Each step applies a linear transformation followed by a non-linear activation\n",
    "        \n",
    "        x = self.layer1(x)\n",
    "        x = self.relu(x)\n",
    "            \n",
    "        x = self.layer2(x)\n",
    "        x = self.relu(x)\n",
    "            \n",
    "        x = self.output(x)\n",
    "        x = self.softmax(x)  # Apply softmax to get probabilities\n",
    "        \n",
    "        return x"
   ]
  },
  {
   "cell_type": "markdown",
   "id": "3",
   "metadata": {},
   "source": [
    "## Step 2: Set model parameters and initialise model"
   ]
  },
  {
   "cell_type": "code",
   "execution_count": null,
   "id": "4",
   "metadata": {},
   "outputs": [],
   "source": [
    "input_size = 4    # Assuming 4 features (like Iris dataset)\n",
    "hidden_size = 16  # Neurons in hidden layer\n",
    "num_classes = 3   # Output classes \n",
    "model = MLP(input_size, hidden_size, num_classes)\n",
    "model"
   ]
  },
  {
   "cell_type": "markdown",
   "id": "5",
   "metadata": {},
   "source": [
    "Insert picture here"
   ]
  },
  {
   "cell_type": "markdown",
   "id": "6",
   "metadata": {},
   "source": [
    "## Step 3: Prepare Iris Test Dataset"
   ]
  },
  {
   "cell_type": "code",
   "execution_count": null,
   "id": "7",
   "metadata": {},
   "outputs": [],
   "source": [
    "# In this step, the process is identical to the data handling steps in \"DataPipeline\" notebook.\n",
    "from sklearn.model_selection import train_test_split\n",
    "from sklearn.datasets import load_iris\n",
    "import torch\n",
    "from torch.utils.data import TensorDataset, DataLoader\n",
    "from sklearn.preprocessing import StandardScaler\n",
    "\n",
    "# load the dataset\n",
    "iris = load_iris()\n",
    "# extract features and target classes\n",
    "X = iris.data\n",
    "y = iris.target\n",
    "X_train, X_test, y_train, y_test = train_test_split(X, y, test_size=0.2, random_state=42)\n",
    "\n",
    "# standardise the feature data\n",
    "scaler = StandardScaler()\n",
    "X_train = scaler.fit_transform(X_train)\n",
    "X_test = scaler.transform(X_test)\n",
    "\n",
    "X_test_tensor = torch.FloatTensor(X_test)\n",
    "y_test_tensor = torch.LongTensor(y_test)\n",
    "\n",
    "batch_size = 30\n",
    "test_dataset = TensorDataset(X_test_tensor, y_test_tensor)\n",
    "test_loader = DataLoader(test_dataset, batch_size=batch_size, shuffle=True)"
   ]
  },
  {
   "cell_type": "code",
   "execution_count": null,
   "id": "8",
   "metadata": {},
   "outputs": [],
   "source": [
    "X, y"
   ]
  },
  {
   "cell_type": "markdown",
   "id": "9",
   "metadata": {},
   "source": [
    "## Step 4: Evaluate Test Loss and Accuracy\n"
   ]
  },
  {
   "cell_type": "code",
   "execution_count": null,
   "id": "10",
   "metadata": {},
   "outputs": [],
   "source": [
    "import matplotlib.pyplot as plt\n",
    "import torch.nn.functional as F\n",
    "\n",
    "# Initialize a list to store the individual losses\n",
    "losses = []\n",
    "\n",
    "# Evaluate the average MSE loss of the model on the test_dataset\n",
    "model.eval()\n",
    "total_test_loss = 0\n",
    "num_test_samples = 0\n",
    "\n",
    "with torch.no_grad():\n",
    "    for features, labels in test_loader:\n",
    "        for i in range(features.size(0)):\n",
    "            # Extract individual feature and label\n",
    "            single_feature = features[i].unsqueeze(0)  # Add batch dimension\n",
    "            single_label = labels[i]\n",
    "\n",
    "            # Forward pass\n",
    "            prediction = model(single_feature)\n",
    "\n",
    "            # One-hot encode label and convert to float\n",
    "            one_hot_label = F.one_hot(single_label, num_classes=3).float().unsqueeze(0)\n",
    "\n",
    "            # Calculate MSE loss\n",
    "            loss = F.mse_loss(prediction, one_hot_label)\n",
    "\n",
    "            losses.append(loss.item())\n",
    "            total_test_loss += loss.item()\n",
    "            num_test_samples += 1\n",
    "\n",
    "# Calculate average loss across all processed samples\n",
    "if num_test_samples > 0:\n",
    "    avg_test_loss = total_test_loss / num_test_samples\n",
    "    print(f\"\\nAverage MSE loss on test set ({num_test_samples} samples): {avg_test_loss:.4f}\")\n",
    "\n",
    "    # Plot the losses as a line chart\n",
    "    plt.figure(figsize=(10, 6))\n",
    "    plt.plot(range(num_test_samples), losses, label='Sample-wise MSE Loss', color='tab:blue', linewidth=2)\n",
    "    plt.xlabel(\"Sample Index\")\n",
    "    plt.ylabel(\"MSE Loss\")\n",
    "    plt.title(\"MSE Loss per Sample on Test Set\")\n",
    "    plt.legend()\n",
    "    plt.grid(True)\n",
    "    plt.tight_layout()\n",
    "    plt.show()\n"
   ]
  }
 ],
 "metadata": {
  "kernelspec": {
   "display_name": ".venv",
   "language": "python",
   "name": "python3"
  },
  "language_info": {
   "codemirror_mode": {
    "name": "ipython",
    "version": 3
   },
   "file_extension": ".py",
   "mimetype": "text/x-python",
   "name": "python",
   "nbconvert_exporter": "python",
   "pygments_lexer": "ipython3",
   "version": "3.12.10"
  }
 },
 "nbformat": 4,
 "nbformat_minor": 5
}
