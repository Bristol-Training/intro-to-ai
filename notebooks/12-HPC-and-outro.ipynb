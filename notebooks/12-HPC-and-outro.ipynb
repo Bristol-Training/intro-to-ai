{
 "cells": [
  {
   "cell_type": "markdown",
   "id": "0",
   "metadata": {},
   "source": [
    "# Difference between local vs. HPC processing\n",
    "\n",
    "Running neural network training locally versus on High-Performance Computing (HPC) systems introduces key differences:\n",
    "\n",
    "**Scale differences**: Local machines typically handle smaller models and datasets, while HPC environments can process massive datasets and more complex architectures.\n",
    "\n",
    "**Training time**: What might take days on a local machine could be completed in hours or minutes on HPC systems due to parallel processing capabilities.\n",
    "\n",
    "**Resource allocation**: Local setups often face memory constraints, while HPC environments provide managed resources that can be dynamically allocated.\n",
    "\n",
    "**Code adaptation**: Minimal code changes are needed when moving to HPC, mainly related to data loading and distribution across nodes.\n",
    "\n",
    "**Setup complexity**: Local environments require simple installation of packages like PyTorch, while HPC systems need job submission scripts and knowledge of workload managers.\n",
    "\n",
    "For smaller neural networks like our Iris dataset example, local processing is sufficient. Larger, production-scale models benefit significantly from HPC resources.\n",
    "\n",
    "## Bristol HPC Resources\n",
    "\n",
    "University of Bristol provides access to powerful HPC facilities:\n",
    "\n",
    "- **BlueCrystal Phase 4**: A general-purpose HPC cluster with GPU capabilities\n",
    "- **BluePebble**: Designed specifically for machine learning workloads with advanced GPU nodes\n",
    "\n",
    "Registered students and researchers should visit the [High Performance Computing](https://www.bristol.ac.uk/acrc/high-performance-computing/) or [Bristol's new supercomputer Isambard 3 and Isambard-AI](https://uob.sharepoint.com/:u:/r/sites/hpc/SitePages/Isambard-3.aspx?csf=1&web=1&e=wnbek5) website for access information and documentation."
   ]
  },
  {
   "cell_type": "markdown",
   "id": "1",
   "metadata": {},
   "source": [
    "# Where to go next?\n",
    "\n",
    "## Learning outcomes\n",
    "\n",
    "In this course we have:\n",
    "\n",
    "- Understand the basic theory of a feed forward multi layer perceptron.\n",
    "- Start to get the grips with PyTorch, tensors and writing classes in Python.\n",
    "- Understand how to pre-process data for training (including test train split)\n",
    "- Understand how to feed forward data and evaluate test loss for a neural network.\n",
    "- Have a basic intuition for what gradient descent and back propagation are.\n",
    "- Implement back propagation to update our weights and biases and reduce our test loss.\n",
    "\n",
    "### Where to go next?\n",
    "\n",
    "Deep learning and neural networks are a huge field of active research that we cannot cover in 3 hours. This is an intro level class designed to cover the learning outcomes above and serve as a prerequisite to further topics in AI, neural networks and deep learning, such as:\n",
    "\n",
    "- Cross entropy loss and more advanced optimisers\n",
    "- Training neural networks using High Powered Computing (HPC) resources\n",
    "- Convolutional Neural Networks (CNNs) for image/video analysis \n",
    "- Recurrent Neural Networks (RNNs) for time series and natural language processing\n",
    "- Transformers and Large Language Models (LLMs)\n",
    "- Graphical Neural Networks (GNNs)\n",
    "- Reinforcement Learning (RL)\n",
    "\n",
    "For moving forward in your deep learning journey, we recommend some of these external resources:\n",
    "\n",
    "- 3Blue1Brown is a YouTuber who has excellent videos on the mathematics of [Linear Algebra](https://www.youtube.com/playlist?list=PLZHQObOWTQDPD3MizzM2xVFitgF8hE_ab), [Calculus](https://www.youtube.com/playlist?list=PLZHQObOWTQDMsr9K-rj53DwVRMYO3t5Yr) and [Neural Networks](https://www.youtube.com/playlist?list=PLZHQObOWTQDNU6R1_67000Dx_ZCJB-3pi).\n",
    "- The PyTorch documentation has plenty of tutorials on neural networks. [Their first tutorial](https://docs.pytorch.org/tutorials/beginner/basics/intro.html) walks you through making a convolutional neural network (CNN) to classify images of different clothes from the FashionMNIST dataset.\n",
    "- StatsQuest is a [YouTuber](https://www.youtube.com/c/joshstarmer) who makes excellent videos on the mathematics of statistics, machine learning and AI. He also has a free course on: [Attention in Transformers: Concepts and Code in PyTorch](https://www.deeplearning.ai/short-courses/attention-in-transformers-concepts-and-code-in-pytorch/?utm_campaign=joshstarmer-launch&utm_medium=partner&utm_source=statquest).\n",
    "- [The TensorFlow playground](https://playground.tensorflow.org/#activation=tanh&batchSize=10&dataset=circle&regDataset=reg-plane&learningRate=0.03&regularizationRate=0&noise=0&networkShape=4,2&seed=0.61021&showTestData=false&discretize=false&percTrainData=50&x=true&y=true&xTimesY=false&xSquared=false&ySquared=false&cosX=false&sinX=false&cosY=false&sinY=false&collectStats=false&problem=classification&initZero=false&hideText=false ) is a nice tool to visualise how neural networks train and bend decision boundaries around points for classification and regression.\n"
   ]
  }
 ],
 "metadata": {
  "kernelspec": {
   "display_name": "Python 3 (ipykernel)",
   "language": "python",
   "name": "python3"
  },
  "language_info": {
   "codemirror_mode": {
    "name": "ipython",
    "version": 3
   },
   "file_extension": ".py",
   "mimetype": "text/x-python",
   "name": "python",
   "nbconvert_exporter": "python",
   "pygments_lexer": "ipython3",
   "version": "3.12.8"
  }
 },
 "nbformat": 4,
 "nbformat_minor": 5
}
