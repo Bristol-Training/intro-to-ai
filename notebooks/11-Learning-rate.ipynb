{
 "cells": [
  {
   "cell_type": "markdown",
   "id": "c8bd04f5-1039-4c2a-b15c-2692d7c451a4",
   "metadata": {},
   "source": [
    "# Interpretation of various learning rates"
   ]
  },
  {
   "cell_type": "markdown",
   "id": "bf6ae847-7816-4a9d-806c-5899fbd204fb",
   "metadata": {},
   "source": [
    "![learning rate](https://cs231n.github.io/assets/nn3/learningrates.jpeg)"
   ]
  },
  {
   "cell_type": "markdown",
   "id": "69f654b9-fcc7-4229-a734-de902b5aa9ce",
   "metadata": {},
   "source": [
    "When examining [learning rate](https://cs231n.github.io/neural-networks-3/#sanitycheck) graphs, several distinct patterns emerge that provide valuable insights into model training dynamics: \n",
    "- **Very high learning rate** (yellow curve) typically produces diverging loss that increases over time, indicating unstable optimisation where parameter updates overshoot minima and potentially cause numerical instability.\n",
    "- **High learning rates** (green curve) show rapid initial progress followed by oscillation or plateauing, suggesting the model approaches optimal regions quickly but lacks the precision to settle properly, bouncing around like a ball with too much energy.\n",
    "- **Good learning rates** (red curve) display steady, consistent decreases that eventually flatten at low values, representing an ideal balance between speed and stability that allows the model to converge efficiently.\n",
    "- **Low learning rates** (blue curve) produce very slow, almost linear decreases in loss, indicating cautious parameter updates that never overshoot but require significantly more computational resources and training time."
   ]
  }
 ],
 "metadata": {
  "kernelspec": {
   "display_name": "py312-CPU",
   "language": "python",
   "name": "py312-cpu"
  },
  "language_info": {
   "codemirror_mode": {
    "name": "ipython",
    "version": 3
   },
   "file_extension": ".py",
   "mimetype": "text/x-python",
   "name": "python",
   "nbconvert_exporter": "python",
   "pygments_lexer": "ipython3",
   "version": "3.12.9"
  }
 },
 "nbformat": 4,
 "nbformat_minor": 5
}
