{
 "cells": [
  {
   "cell_type": "markdown",
   "id": "0",
   "metadata": {},
   "source": [
    "# Introduction to PyTorch and tensors\n",
    "\n",
    "A tensor can be viewed as a multi-dimensional array. Similar to how an n-dimensional vector is shown as a one-dimensional array with _n_ elements relative to a specific basis, any tensor can be expressed as a multi-dimensional array when referenced to a basis. The individual values within this multi-dimensional structure are referred to as the tensor's components.\n",
    "\n",
    "[PyTorch](https://pytorch.org/foundation) is an open-source machine learning library developed by Facebook's AI Research lab. It's known for its flexibility, intuitive design, and dynamic computational graph which makes debugging easier.\n",
    "This library offers multi-dimensional tensor data structures and implements various mathematical functions to manipulate these tensors. It also includes numerous tools for effective tensor serialisation, handling arbitrary data types, and provides several other practical utilities.\n",
    "\n",
    "PyTorch shares significant similarities with NumPy, though it uses the term \"tensor\" instead of \"N-dimensional array\". For example,"
   ]
  },
  {
   "cell_type": "code",
   "execution_count": null,
   "id": "1",
   "metadata": {},
   "outputs": [],
   "source": [
    "import torch\n",
    "import numpy as np\n",
    "\n",
    "array_np = np.array([[1, 2, 3],\n",
    "                    [4, 5, 6]])\n",
    "array_pytorch = torch.tensor([[1, 2, 3],\n",
    "                             [4, 5, 6]])\n",
    "print(array_np)\n",
    "print(array_pytorch)"
   ]
  },
  {
   "cell_type": "markdown",
   "id": "2",
   "metadata": {},
   "source": [
    "Now let us create tensors and do some operations in PyTorch. If you're familiar with vector and matrix operations and linear algebra then you should see some familiar things below, but if you're not, that's ok! If you're wanting an intro or a refresher on linear algebra, we highly recommend the YouTuber 3Blue1Brown and his series [\"Essence of Linear Algebra\"](https://youtube.com/playlist?list=PLZHQObOWTQDPD3MizzM2xVFitgF8hE_ab&si=dVfI3wW58vYhPgBF)."
   ]
  },
  {
   "cell_type": "code",
   "execution_count": null,
   "id": "3",
   "metadata": {},
   "outputs": [],
   "source": [
    "# create specific tensors\n",
    "zeros = torch.zeros(3, 4)  # 3x4 tensor of zeros\n",
    "ones = torch.ones(2, 3)    # 2x3 tensor of ones\n",
    "rand = torch.rand(2, 2)    # 2x2 tensor of random numbers (0-1)\n",
    "print(zeros, \"\\n\", ones, \"\\n\", rand)"
   ]
  },
  {
   "cell_type": "code",
   "execution_count": null,
   "id": "4",
   "metadata": {},
   "outputs": [],
   "source": [
    "# Create a 2x3 tensor\n",
    "a = torch.tensor([[1, 2, 3], [4, 5, 6]])\n",
    "a.shape  # dimension of the tensor a"
   ]
  },
  {
   "cell_type": "code",
   "execution_count": null,
   "id": "5",
   "metadata": {},
   "outputs": [],
   "source": [
    "# Create tensor b of the same shape with tensor a\n",
    "b = torch.tensor([[7, 8, 9], [10, 11, 12]])\n",
    "# Add the tensors\n",
    "result = a + b\n",
    "print(result)"
   ]
  },
  {
   "cell_type": "code",
   "execution_count": null,
   "id": "6",
   "metadata": {},
   "outputs": [],
   "source": [
    "# Create two 2x2 matrices\n",
    "matrix_a = torch.tensor([[1, 2], [3, 4]])\n",
    "matrix_b = torch.tensor([[5, 6], [7, 8]])\n",
    "# Perform matrix multiplication using torch.matmul\n",
    "matrix_mult_result = torch.matmul(matrix_a, matrix_b)\n",
    "print(matrix_mult_result)"
   ]
  },
  {
   "cell_type": "code",
   "execution_count": null,
   "id": "7",
   "metadata": {},
   "outputs": [],
   "source": [
    "# Create two 1D tensors (vectors)\n",
    "vector_a = torch.tensor([1, 2, 3])\n",
    "vector_b = torch.tensor([4, 5, 6])\n",
    "# Computing the dot product between two vectors using torch.dot\n",
    "dot_product_result = torch.dot(vector_a, vector_b)\n",
    "print(dot_product_result)"
   ]
  },
  {
   "cell_type": "markdown",
   "id": "8",
   "metadata": {},
   "source": [
    "In this section, we have introduced some basic tensor operations.\n",
    "To learn more about tensor operations, refer to the official documentation:\n",
    "[Tensor Operations](https://pytorch.org/docs/stable/tensors.html)"
   ]
  }
 ],
 "metadata": {
  "kernelspec": {
   "display_name": ".venv",
   "language": "python",
   "name": "python3"
  },
  "language_info": {
   "codemirror_mode": {
    "name": "ipython",
    "version": 3
   },
   "file_extension": ".py",
   "mimetype": "text/x-python",
   "name": "python",
   "nbconvert_exporter": "python",
   "pygments_lexer": "ipython3",
   "version": "3.12.10"
  }
 },
 "nbformat": 4,
 "nbformat_minor": 5
}
