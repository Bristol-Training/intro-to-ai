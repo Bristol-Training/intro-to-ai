{
 "cells": [
  {
   "cell_type": "markdown",
   "id": "0",
   "metadata": {},
   "source": [
    "# Basics of installing PyTorch (CUDA) in Anaconda\n",
    "- Open Anaconda Powershell Prompt\n",
    "- Create new virtual environment: `conda create -n py312 python=3.12`\n",
    "- Activate it: `conda activate py312`\n",
    "- Install PyTorch using CONDA: `conda install pytorch torchvision torchaudio pytorch-cuda=12.1 -c pytorch -c nvidia`\n",
    "- Verify PyTorch installation: `python -c \"import torch; print(torch.__version__)\"`\n",
    "- Verify CUDA availability: `python -c \"import torch; print(torch.cuda.is_available())\"`\n",
    "### Alternative PyTorch\n",
    "- Install PyTorch for CPU: `conda install pytorch torchvision torchaudio cpuonly -c pytorch`"
   ]
  },
  {
   "cell_type": "markdown",
   "id": "1",
   "metadata": {},
   "source": [
    "## Tips to redirect your Jupyter Notebook kernel to the new environment\n",
    "Activate your virtual environment first on Anaconda Powershell Prompt\n",
    "- #### Install ipykernel\n",
    "`conda install ipykernel`\n",
    "\n",
    "- #### Add the environment to Jupyter (e.g. if your virtual environment name is py312)\n",
    "`python -m ipykernel install --user --name=py312`"
   ]
  },
  {
   "cell_type": "code",
   "execution_count": null,
   "id": "2",
   "metadata": {},
   "outputs": [],
   "source": [
    "# check if PyTorch exists otherwise follow the above steps to install PyTorch\n",
    "\n",
    "import torch\n",
    "torch.__version__"
   ]
  },
  {
   "cell_type": "markdown",
   "id": "3",
   "metadata": {},
   "source": [
    "# Introduction to PyTorch and Tensors\n",
    "-------------------------------------------\n",
    "A tensor can be viewed as a multi-dimensional array. Similar to how an n-dimensional vector is shown as a one-dimensional array with _n_ elements relative to a specific basis, any tensor can be expressed as a multi-dimensional array when referenced to a basis. The individual values within this multi-dimensional structure are referred to as the tensor's components.\n",
    "\n",
    "[PyTorch](https://pytorch.org/foundation) is an open-source machine learning library developed by Facebook's AI Research lab. It's known for its flexibility, intuitive design, and dynamic computational graph which makes debugging easier.\n",
    "This library offers multi-dimensional tensor data structures and implements various mathematical functions to manipulate these tensors. It also includes numerous tools for effective tensor serialisation, handling arbitrary data types, and provides several other practical utilities.\n",
    "\n",
    "PyTorch shares significant similarities with NumPy, though it uses the term ''tensor'' instead of ''N-dimensional array''. For example,"
   ]
  },
  {
   "cell_type": "code",
   "execution_count": null,
   "id": "4",
   "metadata": {},
   "outputs": [],
   "source": [
    "import torch\n",
    "import numpy as np\n",
    "\n",
    "array_np = np.array([[1, 2, 3],\n",
    "                    [4, 5, 6]])\n",
    "array_pytorch = torch.tensor([[1, 2, 3],\n",
    "                             [4, 5, 6]])\n",
    "print(array_np)\n",
    "print(array_pytorch)"
   ]
  },
  {
   "cell_type": "markdown",
   "id": "5",
   "metadata": {},
   "source": [
    "Now let us create tensors and do some operations in PyTorch."
   ]
  },
  {
   "cell_type": "code",
   "execution_count": null,
   "id": "6",
   "metadata": {},
   "outputs": [],
   "source": [
    "# create specific tensors\n",
    "zeros = torch.zeros(3, 4)  # 3x4 tensor of zeros\n",
    "ones = torch.ones(2, 3)    # 2x3 tensor of ones\n",
    "rand = torch.rand(2, 2)    # 2x2 tensor of random numbers (0-1)\n",
    "print(zeros, \"\\n\", ones, \"\\n\", rand)"
   ]
  },
  {
   "cell_type": "code",
   "execution_count": null,
   "id": "7",
   "metadata": {},
   "outputs": [],
   "source": [
    "# Create a 2x3 tensor\n",
    "a = torch.tensor([[1, 2, 3], [4, 5, 6]])\n",
    "a.shape  # dimension of the tensor a"
   ]
  },
  {
   "cell_type": "code",
   "execution_count": null,
   "id": "8",
   "metadata": {},
   "outputs": [],
   "source": [
    "# Create tensor b of the same shape with tensor a\n",
    "b = torch.tensor([[7, 8, 9], [10, 11, 12]])\n",
    "# Add the tensors\n",
    "result = a + b\n",
    "print(result)"
   ]
  },
  {
   "cell_type": "code",
   "execution_count": null,
   "id": "9",
   "metadata": {},
   "outputs": [],
   "source": [
    "# Create two 2x2 matrices\n",
    "matrix_a = torch.tensor([[1, 2], [3, 4]])\n",
    "matrix_b = torch.tensor([[5, 6], [7, 8]])\n",
    "# Perform matrix multiplication using torch.matmul\n",
    "matrix_mult_result = torch.matmul(matrix_a, matrix_b)\n",
    "print(matrix_mult_result)"
   ]
  },
  {
   "cell_type": "code",
   "execution_count": null,
   "id": "10",
   "metadata": {},
   "outputs": [],
   "source": [
    "# Create two 1D tensors (vectors)\n",
    "vector_a = torch.tensor([1, 2, 3])\n",
    "vector_b = torch.tensor([4, 5, 6])\n",
    "# Computing the dot product between two vectors using torch.dot\n",
    "dot_product_result = torch.dot(vector_a, vector_b)\n",
    "print(dot_product_result)"
   ]
  },
  {
   "cell_type": "markdown",
   "id": "11",
   "metadata": {},
   "source": [
    "In this section, we have introduced some basic tensor operations.\n",
    "To learn more about tensor operations, refer to the official documentation:\n",
    "[Tensor Operations](https://pytorch.org/docs/stable/tensors.html)"
   ]
  }
 ],
 "metadata": {
  "kernelspec": {
   "display_name": "Python 3 (ipykernel)",
   "language": "python",
   "name": "python3"
  },
  "language_info": {
   "codemirror_mode": {
    "name": "ipython",
    "version": 3
   },
   "file_extension": ".py",
   "mimetype": "text/x-python",
   "name": "python",
   "nbconvert_exporter": "python",
   "pygments_lexer": "ipython3",
   "version": "3.12.8"
  }
 },
 "nbformat": 4,
 "nbformat_minor": 5
}
