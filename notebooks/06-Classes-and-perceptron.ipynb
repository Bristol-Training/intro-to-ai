{
 "cells": [
  {
   "cell_type": "markdown",
   "id": "0",
   "metadata": {},
   "source": [
    "# Classes and perceptron\n",
    "\n",
    "This notebook introduces the concept of classes in Python and demonstrates their application in building a simple Perceptron, a pytorch neural network.\n",
    "\n",
    "### What Are Classes?\n",
    "Classes in Python are like blueprints for creating objects. They let us bundle data (attributes) and functions (methods) together in a neat package. In the context of neural networks, we use classes to define models—like a Perceptron or an MLP—making our code organized and reusable.\n",
    "\n",
    "### Why Use Classes?\n",
    "- **Structure**: Classes help us organize related elements (e.g., weights, forward logic) together in one place.\n",
    "- **Reusability**: Once defined, we can create multiple instances (objects) of a class.\n",
    "- **PyTorch Connection**: PyTorch uses classes (via `nn.Module`) to build neural networks.\n",
    "\n",
    "### How Do They Work?\n",
    "A class has:\n",
    "- An `__init__` method to set up initial attributes (like weights).\n",
    "- Other methods (like `forward`) to define what the class does.\n",
    "\n",
    "Let’s see two examples: a simple Perceptron and a PyTorch-style network."
   ]
  },
  {
   "cell_type": "markdown",
   "id": "1",
   "metadata": {},
   "source": [
    "## A simple perceptron\n",
    "- **The `Perceptron` Class**: This is like a tiny decision-maker. It sets up random \"weights\" and a \"bias\" when created.\n",
    "- **The `forward` Method**: It takes an input (like `[1.0, 2.0]`), mixes it with weights and bias, and decides \"yes\" (1) or \"no\" (-1) using a simple rule.\n",
    "- **Testing It**: We create a Perceptron, give it an input, and see what it says—super simple!"
   ]
  },
  {
   "cell_type": "code",
   "execution_count": null,
   "id": "2",
   "metadata": {},
   "outputs": [],
   "source": [
    "import torch\n",
    "import torch.nn as nn\n",
    "\n",
    "class Perceptron:\n",
    "    def __init__(self, input_size):\n",
    "        # Initialize random weights and bias\n",
    "        self.weights = torch.randn(input_size)\n",
    "        self.bias = torch.randn(1)\n",
    "    \n",
    "    def forward(self, x):\n",
    "        # Compute the output: sign of (weights * input + bias)\n",
    "        return torch.sign(torch.dot(x, self.weights) + self.bias)\n",
    "\n",
    "# Test the Perceptron\n",
    "perceptron = Perceptron(input_size=2)  # Create an instance with 2 inputs\n",
    "sample_input = torch.tensor([5.0, 2.0])\n",
    "output = perceptron.forward(sample_input)\n",
    "print(\"Perceptron output:\", output)"
   ]
  },
  {
   "cell_type": "markdown",
   "id": "3",
   "metadata": {},
   "source": [
    "## A PyTorch neural network\n",
    "- **The `SimpleNet` Class**: A simple neural network built with PyTorch. It sets up two \"layers\" of connections: one from inputs to a hidden layer (like a middle step), and another from the hidden layer to the output.\n",
    "- **The `forward` Method**: This tells the network how to process an input—it passes it through the first layer, adds a twist with ReLU, then goes through the second layer to get the final result.\n",
    "- **Testing It**: We create a `SimpleNet`, give it an input (like `[1.0, 2.0]`), and see what it predicts—nice and straightforward!\n"
   ]
  },
  {
   "cell_type": "code",
   "execution_count": null,
   "id": "4",
   "metadata": {},
   "outputs": [],
   "source": [
    "class SimpleNet(nn.Module):\n",
    "    def __init__(self, input_size, hidden_size, output_size):\n",
    "        super(SimpleNet, self).__init__()  # Initialize the parent nn.Module class\n",
    "        self.layer1 = nn.Linear(input_size, hidden_size)  # Input to hidden layer\n",
    "        self.layer2 = nn.Linear(hidden_size, output_size)  # Hidden to output layer\n",
    "        self.relu = nn.ReLU()\n",
    "\n",
    "    def forward(self, x):\n",
    "        # Define the forward pass with ReLU activation\n",
    "        x = self.layer1(x)\n",
    "        x = self.relu(x)\n",
    "        x = self.layer2(x)\n",
    "        return x\n",
    "\n",
    "sample_input = torch.tensor([5.0, 2.0])\n",
    "# Test the SimpleNet\n",
    "net = SimpleNet(input_size=2, hidden_size=4, output_size=1)  # Create an instance\n",
    "output = net(sample_input)\n",
    "print(\"SimpleNet output:\", output)"
   ]
  }
 ],
 "metadata": {
  "kernelspec": {
   "display_name": "Python 3 (ipykernel)",
   "language": "python",
   "name": "python3"
  },
  "language_info": {
   "codemirror_mode": {
    "name": "ipython",
    "version": 3
   },
   "file_extension": ".py",
   "mimetype": "text/x-python",
   "name": "python",
   "nbconvert_exporter": "python",
   "pygments_lexer": "ipython3",
   "version": "3.12.8"
  }
 },
 "nbformat": 4,
 "nbformat_minor": 5
}
