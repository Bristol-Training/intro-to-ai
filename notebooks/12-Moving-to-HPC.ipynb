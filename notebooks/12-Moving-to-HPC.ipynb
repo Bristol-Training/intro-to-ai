{
 "cells": [
  {
   "cell_type": "markdown",
   "id": "0",
   "metadata": {},
   "source": [
    "# Difference between local vs. HPC processing\n",
    "\n",
    "Running neural network training locally versus on High-Performance Computing (HPC) systems introduces key differences:\n",
    "\n",
    "**Scale differences**: Local machines typically handle smaller models and datasets, while HPC environments can process massive datasets and more complex architectures.\n",
    "\n",
    "**Training time**: What might take days on a local machine could be completed in hours or minutes on HPC systems due to parallel processing capabilities.\n",
    "\n",
    "**Resource allocation**: Local setups often face memory constraints, while HPC environments provide managed resources that can be dynamically allocated.\n",
    "\n",
    "**Code adaptation**: Minimal code changes are needed when moving to HPC, mainly related to data loading and distribution across nodes.\n",
    "\n",
    "**Setup complexity**: Local environments require simple installation of packages like PyTorch, while HPC systems need job submission scripts and knowledge of workload managers.\n",
    "\n",
    "For smaller neural networks like our Iris dataset example, local processing is sufficient. Larger, production-scale models benefit significantly from HPC resources.\n",
    "\n",
    "## Bristol HPC Resources\n",
    "\n",
    "University of Bristol provides access to powerful HPC facilities:\n",
    "\n",
    "- **BlueCrystal Phase 4**: A general-purpose HPC cluster with GPU capabilities\n",
    "- **BluePebble**: Designed specifically for machine learning workloads with advanced GPU nodes\n",
    "\n",
    "Registered students and researchers should visit the [High Performance Computing](https://www.bristol.ac.uk/acrc/high-performance-computing/) or [Bristol's new supercomputer Isambard 3 and Isambard-AI](https://uob.sharepoint.com/:u:/r/sites/hpc/SitePages/Isambard-3.aspx?csf=1&web=1&e=wnbek5) website for access information and documentation."
   ]
  }
 ],
 "metadata": {
  "kernelspec": {
   "display_name": "Python 3 (ipykernel)",
   "language": "python",
   "name": "python3"
  },
  "language_info": {
   "codemirror_mode": {
    "name": "ipython",
    "version": 3
   },
   "file_extension": ".py",
   "mimetype": "text/x-python",
   "name": "python",
   "nbconvert_exporter": "python",
   "pygments_lexer": "ipython3",
   "version": "3.12.8"
  }
 },
 "nbformat": 4,
 "nbformat_minor": 5
}
