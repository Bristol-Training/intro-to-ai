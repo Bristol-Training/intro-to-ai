{
 "cells": [
  {
   "cell_type": "markdown",
   "metadata": {},
   "source": [
    "# Introduction"
   ]
  },
  {
   "cell_type": "markdown",
   "metadata": {},
   "source": [
    "This course is aimed at the Python programmer who wants to learn how to apply deep learning to data problems. \n",
    "\n",
    "In this course we will learn about how a neural network is structured with multiple hidden layers and non-linear activation functions such a way that we can input some features of data to try and predict some labels.\n",
    "\n",
    "For the purpose of this course we will be using a free tool called Jupyter Notebooks which provides you with a local editor and Python terminal in your web browser. Setting up instructions can be found here."
   ]
  },
  {
   "cell_type": "markdown",
   "metadata": {},
   "source": [
    "## Intended learning outcomes\n",
    "\n",
    "By the end of this course, you will:\n",
    "\n",
    "- Understand the basic theory of a feed forward multi layer perceptron.\n",
    "- Start to get the grips with PyTorch, tensors and classes in Python.\n",
    "- Understand how to pre-process data for training (including test train split)\n",
    "- Understand how to feed forward data and evaluate test loss for a neural network.\n",
    "- Have a basic intuition for what gradient descent and back propogation are.\n",
    "- Implement back propogation to update our weights and biases and reduce our test loss.\n",
    "- Have code for training a general neural network ready to run locally."
   ]
  },
  {
   "cell_type": "markdown",
   "metadata": {},
   "source": [
    "### What this course will not cover\n",
    "\n",
    "Deep learning and neural networks are a huge field of active research that we cannot cover in 3 hours. This is an intro level class designed to cover the learning outcomes above and serve as a prerequisite to further topics in AI, neural networks and deep learning. This course will focus entirely on the application of neural networks to numerical, tabular data.\n",
    "\n",
    "Future courses might cover:\n",
    "\n",
    "- More in depth tuning of neural networks\n",
    "- Training neural networks using High Powered Computing (HPC) resources\n",
    "- Deep learning using high powered computing\n",
    "- Convolutional Neural Networks (CNNs) for image/video analysis\n",
    "- Recurrent Neural Networks (RNNs) for time series and natural language processing\n",
    "- Transformers and Large Language Models (LLMs)\n",
    "- Graphical Neural Networks (GNNs)"
   ]
  },
  {
   "cell_type": "markdown",
   "metadata": {},
   "source": [
    "### Recommend prerequisites\n",
    "\n",
    "This is not an entry level Python course. You should be comfortable with the material (or equivalent) from our Python 1, Python 2, Intro to Data Analysis in Python and Applied Data Analysis in Python courses. \n",
    "\n",
    "In addition, the field of deep learning involves some mathematical ideas from linear algebra (matrix/vector multiplication) and calculus (gradients in multiple dimensions). If you are unfamiliar with these ideas...\n",
    "\n",
    " recommend some resources maybe? 3Blue1Brown? Might also want to say \"this isn't a maths course, so for more in depth understanding of some of the maths, 3B1B has some videos on that too!\"\n",
    "\n",
    "https://www.youtube.com/watch?v=WUvTyaaNkzM&list=PLZHQObOWTQDMsr9K-rj53DwVRMYO3t5Yr\n",
    "\n",
    "https://www.youtube.com/watch?v=fNk_zzaMoSs&list=PLZHQObOWTQDPD3MizzM2xVFitgF8hE_ab"
   ]
  }
 ],
 "metadata": {
  "kernelspec": {
   "display_name": "superposition",
   "language": "python",
   "name": "python3"
  },
  "language_info": {
   "name": "python",
   "version": "3.13.1"
  }
 },
 "nbformat": 4,
 "nbformat_minor": 2
}
