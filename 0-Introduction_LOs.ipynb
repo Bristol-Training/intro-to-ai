{
 "cells": [
  {
   "cell_type": "markdown",
   "metadata": {},
   "source": [
    "# Introduction"
   ]
  },
  {
   "cell_type": "markdown",
   "metadata": {},
   "source": [
    "This course is aimed at the Python programmer who wants to learn how to apply deep learning to data problems. \n",
    "\n",
    "In this course we will learn about how a neural network is structured with multiple hidden layers and non-linear activation functions such a way that we can input some features of data to try and predict some labels.\n",
    "\n",
    "For the purpose of this course we will be using a free tool called Jupyter Notebooks which provides you with a local editor and Python terminal in your web browser. Setting up instructions can be found here."
   ]
  },
  {
   "cell_type": "markdown",
   "metadata": {},
   "source": [
    "## Audience Level\n",
    "\n",
    "You should be comfortable programming in Python. Experience with the content of our [Applied Data Analysis in Python course](https://bristol-training.github.io/applied-data-analysis-in-python/) or equivalent is strongly recommended. This covers:\n",
    "\n",
    "- Running python in a Jupyter notebook\n",
    "- Working with dataframes/numpy arrays\n",
    "- Plotting with matplotlib/seaborn\n",
    "- Defining functions\n",
    "- Using classes such as sklearn models\n",
    "- Test train split and validating models\n",
    "\n",
    "The theory of deep learning includes ideas from calculus and linear algebra. Understanding the idea of a derivative of a function would be strongly recommend. Having some notion of matrix multiplication would be useful but is not essential.\n"
   ]
  },
  {
   "cell_type": "markdown",
   "metadata": {},
   "source": [
    "## Intended learning outcomes\n",
    "\n",
    "By the end of this course, you will:\n",
    "\n",
    "- Understand the basic theory of a feed forward multi layer perceptron.\n",
    "- Start to get the grips with PyTorch, tensors and writing classes in Python.\n",
    "- Understand how to pre-process data for training (including test train split)\n",
    "- Understand how to feed forward data and evaluate test loss for a neural network.\n",
    "- Have a basic intuition for what gradient descent and back propagation are.\n",
    "- Implement back propagation to update our weights and biases and reduce our test loss."
   ]
  },
  {
   "cell_type": "markdown",
   "metadata": {},
   "source": [
    "### What this course will not cover\n",
    "\n",
    "Deep learning and neural networks are a huge field of active research that we cannot cover in 3 hours. This is an intro level class designed to cover the learning outcomes above and serve as a prerequisite to further topics in AI, neural networks and deep learning, such as:\n",
    "\n",
    "- Cross entropy loss and more advanced optimisers\n",
    "- Training neural networks using High Powered Computing (HPC) resources\n",
    "- Convolutional Neural Networks (CNNs) for image/video analysis\n",
    "- Recurrent Neural Networks (RNNs) for time series and natural language processing\n",
    "- Transformers and Large Language Models (LLMs)\n",
    "- Graphical Neural Networks (GNNs)\n"
   ]
  }
 ],
 "metadata": {
  "kernelspec": {
   "display_name": "PyTorchEnv",
   "language": "python",
   "name": "python3"
  },
  "language_info": {
   "codemirror_mode": {
    "name": "ipython",
    "version": 3
   },
   "file_extension": ".py",
   "mimetype": "text/x-python",
   "name": "python",
   "nbconvert_exporter": "python",
   "pygments_lexer": "ipython3",
   "version": "3.12.8"
  }
 },
 "nbformat": 4,
 "nbformat_minor": 4
}
